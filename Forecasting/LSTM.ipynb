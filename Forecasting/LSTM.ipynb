{
 "cells": [
  {
   "cell_type": "markdown",
   "metadata": {},
   "source": [
    "# LSTM\n",
    "\n",
    "Learn how to make a multivariate forecast a LSTM network on BTC price data. The data is on minute intervals. \n",
    "\n",
    "This network is trained on two inputs: \n",
    "1) average high and low price for every minute\n",
    "2) the volume to produce the forecast. \n",
    "\n",
    "<p>*Please Note* this dataset is extremely small. As a result, it doesn't produce a great forecast. A small dataset is used in order to reduce training time and merely demonstrate the steps that are required for learning purposes.</p><p> Code is largely borrowed from Renu Khandelwal's Tutorial <a href=\"https://medium.com/datadriveninvestor/multivariate-time-series-using-rnn-with-keras-7f78f4488679\"> Multivariate Time Series using RNN with Keras </a>. </p> <p>Pictures are taken from a <a href=\"https://github.com/Arturus/kaggle-web-traffic/blob/master/how_it_works.mdtutorial\"> tutorial on RNNs for time series forecasting </a> by Artur Suilin.</p> <p> Quotes are from <a href=\"https://github.com/JEddy92/TimeSeries_Seq2Seq/blob/master/notebooks/TS_Seq2Seq_Intro.ipynb\">TimeSeries_Seq2Seq</a> by Joseph Eddy. Please take a look at their work </p>"
   ]
  },
  {
   "cell_type": "markdown",
   "metadata": {},
   "source": [
    "## Step One:\n",
    "Import Dependencies"
   ]
  },
  {
   "cell_type": "code",
   "execution_count": 1,
   "metadata": {},
   "outputs": [],
   "source": [
    "import numpy as np\n",
    "import pandas as pd\n",
    "import matplotlib.pyplot as plt\n",
    "%matplotlib inline\n",
    "stock_data = pd.read_csv(\"Data/BTC_sm_nc.csv\")"
   ]
  },
  {
   "cell_type": "code",
   "execution_count": 2,
   "metadata": {},
   "outputs": [
    {
     "data": {
      "text/html": [
       "<div>\n",
       "<style scoped>\n",
       "    .dataframe tbody tr th:only-of-type {\n",
       "        vertical-align: middle;\n",
       "    }\n",
       "\n",
       "    .dataframe tbody tr th {\n",
       "        vertical-align: top;\n",
       "    }\n",
       "\n",
       "    .dataframe thead th {\n",
       "        text-align: right;\n",
       "    }\n",
       "</style>\n",
       "<table border=\"1\" class=\"dataframe\">\n",
       "  <thead>\n",
       "    <tr style=\"text-align: right;\">\n",
       "      <th></th>\n",
       "      <th>time</th>\n",
       "      <th>close</th>\n",
       "      <th>high</th>\n",
       "      <th>low</th>\n",
       "      <th>open</th>\n",
       "      <th>volume</th>\n",
       "    </tr>\n",
       "  </thead>\n",
       "  <tbody>\n",
       "    <tr>\n",
       "      <th>0</th>\n",
       "      <td>1483228740000000000</td>\n",
       "      <td>968.29</td>\n",
       "      <td>968.29</td>\n",
       "      <td>968.29</td>\n",
       "      <td>968.29</td>\n",
       "      <td>0</td>\n",
       "    </tr>\n",
       "    <tr>\n",
       "      <th>1</th>\n",
       "      <td>1483228800000000000</td>\n",
       "      <td>968.70</td>\n",
       "      <td>968.76</td>\n",
       "      <td>968.49</td>\n",
       "      <td>968.29</td>\n",
       "      <td>12993</td>\n",
       "    </tr>\n",
       "    <tr>\n",
       "      <th>2</th>\n",
       "      <td>1483228860000000000</td>\n",
       "      <td>968.43</td>\n",
       "      <td>968.70</td>\n",
       "      <td>967.20</td>\n",
       "      <td>968.70</td>\n",
       "      <td>73800</td>\n",
       "    </tr>\n",
       "    <tr>\n",
       "      <th>3</th>\n",
       "      <td>1483228920000000000</td>\n",
       "      <td>967.21</td>\n",
       "      <td>968.00</td>\n",
       "      <td>967.21</td>\n",
       "      <td>968.43</td>\n",
       "      <td>3500</td>\n",
       "    </tr>\n",
       "    <tr>\n",
       "      <th>4</th>\n",
       "      <td>1483228980000000000</td>\n",
       "      <td>966.97</td>\n",
       "      <td>967.21</td>\n",
       "      <td>966.74</td>\n",
       "      <td>967.21</td>\n",
       "      <td>15969</td>\n",
       "    </tr>\n",
       "  </tbody>\n",
       "</table>\n",
       "</div>"
      ],
      "text/plain": [
       "                  time   close    high     low    open  volume\n",
       "0  1483228740000000000  968.29  968.29  968.29  968.29       0\n",
       "1  1483228800000000000  968.70  968.76  968.49  968.29   12993\n",
       "2  1483228860000000000  968.43  968.70  967.20  968.70   73800\n",
       "3  1483228920000000000  967.21  968.00  967.21  968.43    3500\n",
       "4  1483228980000000000  966.97  967.21  966.74  967.21   15969"
      ]
     },
     "execution_count": 2,
     "metadata": {},
     "output_type": "execute_result"
    }
   ],
   "source": [
    "stock_data.head()"
   ]
  },
  {
   "cell_type": "code",
   "execution_count": 4,
   "metadata": {},
   "outputs": [
    {
     "name": "stdout",
     "output_type": "stream",
     "text": [
      "<class 'pandas.core.frame.DataFrame'>\n",
      "RangeIndex: 100 entries, 0 to 99\n",
      "Data columns (total 6 columns):\n",
      "time      100 non-null int64\n",
      "close     100 non-null float64\n",
      "high      100 non-null float64\n",
      "low       100 non-null float64\n",
      "open      100 non-null float64\n",
      "volume    100 non-null int64\n",
      "dtypes: float64(4), int64(2)\n",
      "memory usage: 4.8 KB\n"
     ]
    }
   ],
   "source": [
    "stock_data.info()"
   ]
  },
  {
   "cell_type": "markdown",
   "metadata": {},
   "source": [
    "We will take the average of the low and high of the Google stock for the day and volume of the stocks traded for the day to predict the stock prices."
   ]
  },
  {
   "cell_type": "code",
   "execution_count": 5,
   "metadata": {},
   "outputs": [
    {
     "data": {
      "text/html": [
       "<div>\n",
       "<style scoped>\n",
       "    .dataframe tbody tr th:only-of-type {\n",
       "        vertical-align: middle;\n",
       "    }\n",
       "\n",
       "    .dataframe tbody tr th {\n",
       "        vertical-align: top;\n",
       "    }\n",
       "\n",
       "    .dataframe thead th {\n",
       "        text-align: right;\n",
       "    }\n",
       "</style>\n",
       "<table border=\"1\" class=\"dataframe\">\n",
       "  <thead>\n",
       "    <tr style=\"text-align: right;\">\n",
       "      <th></th>\n",
       "      <th>time</th>\n",
       "      <th>close</th>\n",
       "      <th>high</th>\n",
       "      <th>low</th>\n",
       "      <th>open</th>\n",
       "      <th>volume</th>\n",
       "      <th>average</th>\n",
       "    </tr>\n",
       "  </thead>\n",
       "  <tbody>\n",
       "    <tr>\n",
       "      <td>0</td>\n",
       "      <td>1483228740000000000</td>\n",
       "      <td>968.29</td>\n",
       "      <td>968.29</td>\n",
       "      <td>968.29</td>\n",
       "      <td>968.29</td>\n",
       "      <td>0</td>\n",
       "      <td>968.290</td>\n",
       "    </tr>\n",
       "    <tr>\n",
       "      <td>1</td>\n",
       "      <td>1483228800000000000</td>\n",
       "      <td>968.70</td>\n",
       "      <td>968.76</td>\n",
       "      <td>968.49</td>\n",
       "      <td>968.29</td>\n",
       "      <td>12993</td>\n",
       "      <td>968.625</td>\n",
       "    </tr>\n",
       "    <tr>\n",
       "      <td>2</td>\n",
       "      <td>1483228860000000000</td>\n",
       "      <td>968.43</td>\n",
       "      <td>968.70</td>\n",
       "      <td>967.20</td>\n",
       "      <td>968.70</td>\n",
       "      <td>73800</td>\n",
       "      <td>967.950</td>\n",
       "    </tr>\n",
       "    <tr>\n",
       "      <td>3</td>\n",
       "      <td>1483228920000000000</td>\n",
       "      <td>967.21</td>\n",
       "      <td>968.00</td>\n",
       "      <td>967.21</td>\n",
       "      <td>968.43</td>\n",
       "      <td>3500</td>\n",
       "      <td>967.605</td>\n",
       "    </tr>\n",
       "    <tr>\n",
       "      <td>4</td>\n",
       "      <td>1483228980000000000</td>\n",
       "      <td>966.97</td>\n",
       "      <td>967.21</td>\n",
       "      <td>966.74</td>\n",
       "      <td>967.21</td>\n",
       "      <td>15969</td>\n",
       "      <td>966.975</td>\n",
       "    </tr>\n",
       "  </tbody>\n",
       "</table>\n",
       "</div>"
      ],
      "text/plain": [
       "                  time   close    high     low    open  volume  average\n",
       "0  1483228740000000000  968.29  968.29  968.29  968.29       0  968.290\n",
       "1  1483228800000000000  968.70  968.76  968.49  968.29   12993  968.625\n",
       "2  1483228860000000000  968.43  968.70  967.20  968.70   73800  967.950\n",
       "3  1483228920000000000  967.21  968.00  967.21  968.43    3500  967.605\n",
       "4  1483228980000000000  966.97  967.21  966.74  967.21   15969  966.975"
      ]
     },
     "execution_count": 5,
     "metadata": {},
     "output_type": "execute_result"
    }
   ],
   "source": [
    "import math\n",
    "stock_data[\"average\"] = (stock_data[\"high\"] + stock_data[\"low\"])/2\n",
    "stock_data.head()"
   ]
  },
  {
   "cell_type": "markdown",
   "metadata": {},
   "source": [
    "Taking the volume and average stock price as our input features and store it in input_data"
   ]
  },
  {
   "cell_type": "code",
   "execution_count": 6,
   "metadata": {},
   "outputs": [
    {
     "data": {
      "text/plain": [
       "array([[968.29 , 968.29 ],\n",
       "       [968.76 , 968.625]])"
      ]
     },
     "execution_count": 6,
     "metadata": {},
     "output_type": "execute_result"
    }
   ],
   "source": [
    "input_feature= stock_data.iloc[:,[2,6]].values\n",
    "input_data = input_feature\n",
    "input_data[0:2]"
   ]
  },
  {
   "cell_type": "code",
   "execution_count": 7,
   "metadata": {},
   "outputs": [
    {
     "data": {
      "image/png": "[encoded data removed]",
      "text/plain": [
       "<Figure size 432x288 with 1 Axes>"
      ]
     },
     "metadata": {
      "needs_background": "light"
     },
     "output_type": "display_data"
    }
   ],
   "source": [
    "plt.plot(input_feature[:,0])\n",
    "plt.title(\"Volume of stocks sold\")\n",
    "plt.xlabel(\"Time\")\n",
    "plt.ylabel(\"Volume of stocks traded\")\n",
    "plt.show()"
   ]
  },
  {
   "cell_type": "code",
   "execution_count": 8,
   "metadata": {},
   "outputs": [
    {
     "data": {
      "image/png": "[encoded data removed]",
      "text/plain": [
       "<Figure size 432x288 with 1 Axes>"
      ]
     },
     "metadata": {
      "needs_background": "light"
     },
     "output_type": "display_data"
    }
   ],
   "source": [
    "plt.plot(input_feature[:,1], color='blue')\n",
    "plt.title(\"BTC Stock Prices\")\n",
    "plt.xlabel(\"Time\")\n",
    "plt.ylabel(\"Stock Opening Price\")\n",
    "plt.show()"
   ]
  },
  {
   "cell_type": "markdown",
   "metadata": {},
   "source": [
    "Normalizing the input data using MinMaxScaler so that all the input features are on the scale from 0 to 1. For each value in a feature, MinMaxScaler subtracts the minimum value in the feature and then divides by the range. The range is the difference between the original maximum and original minimum. MinMaxScaler preserves the shape of the original distribution."
   ]
  },
  {
   "cell_type": "markdown",
   "metadata": {},
   "source": [
    "The goal of normalization is to change the values of numeric columns in the dataset to a common scale, without distorting differences in the ranges of values.Data Normalization is necessary for Machine Learning problems where the features have different ranges."
   ]
  },
  {
   "cell_type": "code",
   "execution_count": 9,
   "metadata": {},
   "outputs": [],
   "source": [
    "from sklearn.preprocessing import MinMaxScaler\n",
    "sc= MinMaxScaler(feature_range=(0,1))\n",
    "input_data[:,0:2] = sc.fit_transform(input_feature[:,:])"
   ]
  },
  {
   "cell_type": "markdown",
   "metadata": {},
   "source": [
    "\"We have to know how to appropriately partition the time series into encoding and decoding (prediction) intervals for the purposes of training and validation.\n",
    "\n",
    "There are two ways to split timeseries into training and validation datasets:\n",
    "\n",
    "Walk-forward split. This is not actually a split: we train on full dataset and validate on full dataset, using different timeframes. Timeframe for validation is shifted forward by one prediction interval relative to timeframe for training.\n",
    "Side-by-side split. This is traditional split model for mainstream machine learning. Dataset splits into independent parts, one part used strictly for training and another part used strictly for validation.\n",
    "\n",
    "We'll use a style of walk-forward validation, where our validation set spans the same time-range as our training set, but shifted forward in time (in this case by 10 minutes). This way, we simulate how our model will perform on unseen data that comes in the future.\""
   ]
  },
  {
   "cell_type": "markdown",
   "metadata": {},
   "source": [
    "![split validation](images/ArturSuilin_validation.png)"
   ]
  },
  {
   "cell_type": "markdown",
   "metadata": {},
   "source": [
    "We loop through all the samples and for each day we go back 10 minutes in the past and add the volume of the stocks traded an average stock price."
   ]
  },
  {
   "cell_type": "code",
   "execution_count": 10,
   "metadata": {},
   "outputs": [],
   "source": [
    "lookback= 10\n",
    "\n",
    "test_size=int(.3 * len(stock_data))\n",
    "X=[]\n",
    "y=[]\n",
    "for i in range(len(stock_data)-lookback-1):\n",
    "    t=[]\n",
    "    for j in range(0,lookback):\n",
    "        \n",
    "        t.append(input_data[[(i+j)], :])\n",
    "    X.append(t)\n",
    "    y.append(input_data[i+ lookback,1])"
   ]
  },
  {
   "cell_type": "code",
   "execution_count": 11,
   "metadata": {},
   "outputs": [
    {
     "name": "stdout",
     "output_type": "stream",
     "text": [
      "test_size\n",
      "30\n",
      "length of stock_data\n",
      "100\n",
      "length of X\n",
      "89\n",
      "first 5 points of y\n",
      "[0.6248648648648611, 0.6248648648648611, 0.5070270270270214, 0.30810810810808675, 0.21621621621622467]\n",
      "points 10-15 of input_data\n",
      "[0.62486486 0.62486486 0.50702703 0.30810811 0.21621622]\n"
     ]
    }
   ],
   "source": [
    "print(\"test_size\")\n",
    "print(test_size)\n",
    "print(\"length of stock_data\")\n",
    "print(len(stock_data))\n",
    "print(\"length of X\")\n",
    "print(len(X))\n",
    "print(\"first 5 points of y\")\n",
    "print(y[0:5])\n",
    "print(\"points 10-15 of input_data\")\n",
    "print(input_data[10:15,1])"
   ]
  },
  {
   "cell_type": "code",
   "execution_count": 14,
   "metadata": {},
   "outputs": [
    {
     "name": "stdout",
     "output_type": "stream",
     "text": [
      "(89, 10, 2)\n",
      "(40, 10, 2)\n",
      "[[1.         1.        ]\n",
      " [0.98739496 0.85405405]\n",
      " [0.84033613 0.77945946]\n",
      " [0.67436975 0.64324324]\n",
      " [0.62394958 0.64216216]\n",
      " [0.6302521  0.64864865]\n",
      " [0.60714286 0.62486486]\n",
      " [0.60714286 0.62486486]\n",
      " [0.60714286 0.62486486]\n",
      " [0.60714286 0.62486486]]\n"
     ]
    }
   ],
   "source": [
    "X, y= np.array(X), np.array(y)\n",
    "X_test = X[:test_size+lookback]\n",
    "X = X.reshape(X.shape[0],lookback, 2)\n",
    "X_test = X_test.reshape(X_test.shape[0],lookback, 2)\n",
    "print(X.shape)\n",
    "print(X_test.shape)\n",
    "print(X[1])"
   ]
  },
  {
   "cell_type": "code",
   "execution_count": 13,
   "metadata": {},
   "outputs": [
    {
     "name": "stderr",
     "output_type": "stream",
     "text": [
      "Using TensorFlow backend.\n"
     ]
    }
   ],
   "source": [
    "from keras import Sequential\n",
    "from keras.layers import Dense, LSTM"
   ]
  },
  {
   "cell_type": "code",
   "execution_count": 14,
   "metadata": {},
   "outputs": [
    {
     "name": "stdout",
     "output_type": "stream",
     "text": [
      "Model: \"sequential_1\"\n",
      "_________________________________________________________________\n",
      "Layer (type)                 Output Shape              Param #   \n",
      "=================================================================\n",
      "lstm_1 (LSTM)                (None, 10, 30)            3960      \n",
      "_________________________________________________________________\n",
      "lstm_2 (LSTM)                (None, 10, 30)            7320      \n",
      "_________________________________________________________________\n",
      "lstm_3 (LSTM)                (None, 30)                7320      \n",
      "_________________________________________________________________\n",
      "dense_1 (Dense)              (None, 1)                 31        \n",
      "=================================================================\n",
      "Total params: 18,631\n",
      "Trainable params: 18,631\n",
      "Non-trainable params: 0\n",
      "_________________________________________________________________\n"
     ]
    }
   ],
   "source": [
    "model = Sequential()\n",
    "model.add(LSTM(units=30, return_sequences= True, input_shape=(X.shape[1],2)))\n",
    "model.add(LSTM(units=30, return_sequences=True))\n",
    "model.add(LSTM(units=30))\n",
    "model.add(Dense(units=1))\n",
    "model.summary()"
   ]
  },
  {
   "cell_type": "code",
   "execution_count": 15,
   "metadata": {},
   "outputs": [],
   "source": [
    "model.compile(optimizer='adam', loss='mean_squared_error')\n"
   ]
  },
  {
   "cell_type": "code",
   "execution_count": 16,
   "metadata": {},
   "outputs": [
    {
     "name": "stdout",
     "output_type": "stream",
     "text": [
      "WARNING:tensorflow:From /Users/anaisdotis-georgiou/anaconda3/lib/python3.6/site-packages/keras/backend/tensorflow_backend.py:422: The name tf.global_variables is deprecated. Please use tf.compat.v1.global_variables instead.\n",
      "\n",
      "Epoch 1/200\n",
      "89/89 [==============================] - 1s 12ms/step - loss: 0.2024\n",
      "Epoch 2/200\n",
      "89/89 [==============================] - 0s 1ms/step - loss: 0.0583\n",
      "Epoch 3/200\n",
      "89/89 [==============================] - 0s 2ms/step - loss: 0.0593\n",
      "Epoch 4/200\n",
      "89/89 [==============================] - 0s 1ms/step - loss: 0.0506\n",
      "Epoch 5/200\n",
      "89/89 [==============================] - 0s 1ms/step - loss: 0.0476\n",
      "Epoch 6/200\n",
      "89/89 [==============================] - 0s 1ms/step - loss: 0.0474\n",
      "Epoch 7/200\n",
      "89/89 [==============================] - 0s 1ms/step - loss: 0.0455\n",
      "Epoch 8/200\n",
      "89/89 [==============================] - 0s 1ms/step - loss: 0.0453\n",
      "Epoch 9/200\n",
      "89/89 [==============================] - 0s 1ms/step - loss: 0.0443\n",
      "Epoch 10/200\n",
      "89/89 [==============================] - 0s 1ms/step - loss: 0.0451\n",
      "Epoch 11/200\n",
      "89/89 [==============================] - 0s 1ms/step - loss: 0.0432\n",
      "Epoch 12/200\n",
      "89/89 [==============================] - 0s 1ms/step - loss: 0.0413\n",
      "Epoch 13/200\n",
      "89/89 [==============================] - 0s 1ms/step - loss: 0.0414\n",
      "Epoch 14/200\n",
      "89/89 [==============================] - 0s 1ms/step - loss: 0.0409\n",
      "Epoch 15/200\n",
      "89/89 [==============================] - 0s 1ms/step - loss: 0.0387\n",
      "Epoch 16/200\n",
      "89/89 [==============================] - 0s 1ms/step - loss: 0.0351\n",
      "Epoch 17/200\n",
      "89/89 [==============================] - 0s 1ms/step - loss: 0.0353\n",
      "Epoch 18/200\n",
      "89/89 [==============================] - 0s 1ms/step - loss: 0.0346\n",
      "Epoch 19/200\n",
      "89/89 [==============================] - 0s 1ms/step - loss: 0.0332\n",
      "Epoch 20/200\n",
      "89/89 [==============================] - 0s 1ms/step - loss: 0.0302\n",
      "Epoch 21/200\n",
      "89/89 [==============================] - 0s 1ms/step - loss: 0.0285\n",
      "Epoch 22/200\n",
      "89/89 [==============================] - 0s 1ms/step - loss: 0.0298\n",
      "Epoch 23/200\n",
      "89/89 [==============================] - 0s 1ms/step - loss: 0.0252\n",
      "Epoch 24/200\n",
      "89/89 [==============================] - 0s 1ms/step - loss: 0.0265\n",
      "Epoch 25/200\n",
      "89/89 [==============================] - 0s 1ms/step - loss: 0.0243\n",
      "Epoch 26/200\n",
      "89/89 [==============================] - 0s 1ms/step - loss: 0.0227\n",
      "Epoch 27/200\n",
      "89/89 [==============================] - 0s 1ms/step - loss: 0.0208\n",
      "Epoch 28/200\n",
      "89/89 [==============================] - 0s 1ms/step - loss: 0.0208\n",
      "Epoch 29/200\n",
      "89/89 [==============================] - 0s 1ms/step - loss: 0.0232\n",
      "Epoch 30/200\n",
      "89/89 [==============================] - 0s 1ms/step - loss: 0.0196\n",
      "Epoch 31/200\n",
      "89/89 [==============================] - 0s 1ms/step - loss: 0.0206\n",
      "Epoch 32/200\n",
      "89/89 [==============================] - 0s 1ms/step - loss: 0.0190\n",
      "Epoch 33/200\n",
      "89/89 [==============================] - 0s 1ms/step - loss: 0.0213\n",
      "Epoch 34/200\n",
      "89/89 [==============================] - 0s 1ms/step - loss: 0.0187\n",
      "Epoch 35/200\n",
      "89/89 [==============================] - 0s 1ms/step - loss: 0.0178\n",
      "Epoch 36/200\n",
      "89/89 [==============================] - 0s 1ms/step - loss: 0.0178\n",
      "Epoch 37/200\n",
      "89/89 [==============================] - 0s 1ms/step - loss: 0.0186\n",
      "Epoch 38/200\n",
      "89/89 [==============================] - 0s 1ms/step - loss: 0.0195\n",
      "Epoch 39/200\n",
      "89/89 [==============================] - 0s 1ms/step - loss: 0.0170\n",
      "Epoch 40/200\n",
      "89/89 [==============================] - 0s 1ms/step - loss: 0.0156\n",
      "Epoch 41/200\n",
      "89/89 [==============================] - 0s 1ms/step - loss: 0.0154\n",
      "Epoch 42/200\n",
      "89/89 [==============================] - 0s 1ms/step - loss: 0.0153\n",
      "Epoch 43/200\n",
      "89/89 [==============================] - 0s 1ms/step - loss: 0.0149\n",
      "Epoch 44/200\n",
      "89/89 [==============================] - 0s 1ms/step - loss: 0.0147\n",
      "Epoch 45/200\n",
      "89/89 [==============================] - 0s 1ms/step - loss: 0.0142\n",
      "Epoch 46/200\n",
      "89/89 [==============================] - 0s 1ms/step - loss: 0.0142\n",
      "Epoch 47/200\n",
      "89/89 [==============================] - 0s 1ms/step - loss: 0.0147\n",
      "Epoch 48/200\n",
      "89/89 [==============================] - 0s 1ms/step - loss: 0.0145\n",
      "Epoch 49/200\n",
      "89/89 [==============================] - 0s 1ms/step - loss: 0.0151\n",
      "Epoch 50/200\n",
      "89/89 [==============================] - 0s 1ms/step - loss: 0.0140\n",
      "Epoch 51/200\n",
      "89/89 [==============================] - 0s 1ms/step - loss: 0.0129\n",
      "Epoch 52/200\n",
      "89/89 [==============================] - 0s 1ms/step - loss: 0.0125\n",
      "Epoch 53/200\n",
      "89/89 [==============================] - 0s 1ms/step - loss: 0.0124\n",
      "Epoch 54/200\n",
      "89/89 [==============================] - 0s 1ms/step - loss: 0.0120\n",
      "Epoch 55/200\n",
      "89/89 [==============================] - 0s 1ms/step - loss: 0.0118\n",
      "Epoch 56/200\n",
      "89/89 [==============================] - 0s 1ms/step - loss: 0.0115\n",
      "Epoch 57/200\n",
      "89/89 [==============================] - 0s 1ms/step - loss: 0.0121\n",
      "Epoch 58/200\n",
      "89/89 [==============================] - 0s 1ms/step - loss: 0.0124\n",
      "Epoch 59/200\n",
      "89/89 [==============================] - 0s 1ms/step - loss: 0.0127\n",
      "Epoch 60/200\n",
      "89/89 [==============================] - 0s 1ms/step - loss: 0.0121\n",
      "Epoch 61/200\n",
      "89/89 [==============================] - 0s 1ms/step - loss: 0.0126\n",
      "Epoch 62/200\n",
      "89/89 [==============================] - 0s 1ms/step - loss: 0.0110\n",
      "Epoch 63/200\n",
      "89/89 [==============================] - 0s 2ms/step - loss: 0.0120\n",
      "Epoch 64/200\n",
      "89/89 [==============================] - 0s 1ms/step - loss: 0.0114\n",
      "Epoch 65/200\n",
      "89/89 [==============================] - 0s 1ms/step - loss: 0.0108\n",
      "Epoch 66/200\n",
      "89/89 [==============================] - 0s 1ms/step - loss: 0.0103\n",
      "Epoch 67/200\n",
      "89/89 [==============================] - 0s 1ms/step - loss: 0.0131\n",
      "Epoch 68/200\n",
      "89/89 [==============================] - 0s 1ms/step - loss: 0.0099\n",
      "Epoch 69/200\n",
      "89/89 [==============================] - 0s 1ms/step - loss: 0.0101\n",
      "Epoch 70/200\n",
      "89/89 [==============================] - 0s 1ms/step - loss: 0.0100\n",
      "Epoch 71/200\n",
      "89/89 [==============================] - 0s 1ms/step - loss: 0.0094\n",
      "Epoch 72/200\n",
      "89/89 [==============================] - 0s 1ms/step - loss: 0.0100\n",
      "Epoch 73/200\n",
      "89/89 [==============================] - 0s 1ms/step - loss: 0.0095\n",
      "Epoch 74/200\n",
      "89/89 [==============================] - 0s 1ms/step - loss: 0.0093\n",
      "Epoch 75/200\n",
      "89/89 [==============================] - 0s 2ms/step - loss: 0.0093\n",
      "Epoch 76/200\n",
      "89/89 [==============================] - 0s 1ms/step - loss: 0.0104\n",
      "Epoch 77/200\n",
      "89/89 [==============================] - 0s 2ms/step - loss: 0.0097\n",
      "Epoch 78/200\n",
      "89/89 [==============================] - 0s 2ms/step - loss: 0.0125\n",
      "Epoch 79/200\n",
      "89/89 [==============================] - 0s 2ms/step - loss: 0.0103\n",
      "Epoch 80/200\n",
      "89/89 [==============================] - 0s 1ms/step - loss: 0.0094\n",
      "Epoch 81/200\n",
      "89/89 [==============================] - 0s 2ms/step - loss: 0.0094\n",
      "Epoch 82/200\n",
      "89/89 [==============================] - 0s 1ms/step - loss: 0.0105\n",
      "Epoch 83/200\n",
      "89/89 [==============================] - 0s 1ms/step - loss: 0.0102\n",
      "Epoch 84/200\n",
      "89/89 [==============================] - 0s 1ms/step - loss: 0.0106\n",
      "Epoch 85/200\n",
      "89/89 [==============================] - 0s 1ms/step - loss: 0.0102\n",
      "Epoch 86/200\n",
      "89/89 [==============================] - 0s 1ms/step - loss: 0.0115\n",
      "Epoch 87/200\n",
      "89/89 [==============================] - 0s 1ms/step - loss: 0.0097\n",
      "Epoch 88/200\n",
      "89/89 [==============================] - 0s 1ms/step - loss: 0.0089\n",
      "Epoch 89/200\n",
      "89/89 [==============================] - 0s 2ms/step - loss: 0.0089\n",
      "Epoch 90/200\n",
      "89/89 [==============================] - 0s 1ms/step - loss: 0.0088\n",
      "Epoch 91/200\n",
      "89/89 [==============================] - 0s 1ms/step - loss: 0.0097\n",
      "Epoch 92/200\n",
      "89/89 [==============================] - 0s 1ms/step - loss: 0.0102\n",
      "Epoch 93/200\n",
      "89/89 [==============================] - 0s 1ms/step - loss: 0.0100\n",
      "Epoch 94/200\n",
      "89/89 [==============================] - 0s 1ms/step - loss: 0.0097\n",
      "Epoch 95/200\n",
      "89/89 [==============================] - 0s 1ms/step - loss: 0.0089\n",
      "Epoch 96/200\n",
      "89/89 [==============================] - 0s 1ms/step - loss: 0.0089\n",
      "Epoch 97/200\n",
      "89/89 [==============================] - 0s 1ms/step - loss: 0.0086\n",
      "Epoch 98/200\n",
      "89/89 [==============================] - 0s 1ms/step - loss: 0.0101\n",
      "Epoch 99/200\n",
      "89/89 [==============================] - 0s 1ms/step - loss: 0.0081\n",
      "Epoch 100/200\n",
      "89/89 [==============================] - 0s 1ms/step - loss: 0.0085\n",
      "Epoch 101/200\n",
      "89/89 [==============================] - 0s 1ms/step - loss: 0.0087\n",
      "Epoch 102/200\n",
      "89/89 [==============================] - 0s 1ms/step - loss: 0.0086\n",
      "Epoch 103/200\n",
      "89/89 [==============================] - 0s 1ms/step - loss: 0.0088\n",
      "Epoch 104/200\n",
      "89/89 [==============================] - 0s 1ms/step - loss: 0.0085\n",
      "Epoch 105/200\n",
      "89/89 [==============================] - 0s 1ms/step - loss: 0.0091\n",
      "Epoch 106/200\n",
      "89/89 [==============================] - 0s 1ms/step - loss: 0.0083\n",
      "Epoch 107/200\n",
      "89/89 [==============================] - 0s 1ms/step - loss: 0.0084\n",
      "Epoch 108/200\n",
      "89/89 [==============================] - 0s 1ms/step - loss: 0.0077\n",
      "Epoch 109/200\n",
      "89/89 [==============================] - 0s 1ms/step - loss: 0.0079\n",
      "Epoch 110/200\n",
      "89/89 [==============================] - 0s 1ms/step - loss: 0.0078\n",
      "Epoch 111/200\n",
      "89/89 [==============================] - 0s 1ms/step - loss: 0.0079\n",
      "Epoch 112/200\n",
      "89/89 [==============================] - 0s 1ms/step - loss: 0.0083\n",
      "Epoch 113/200\n",
      "89/89 [==============================] - 0s 1ms/step - loss: 0.0080\n",
      "Epoch 114/200\n",
      "89/89 [==============================] - 0s 1ms/step - loss: 0.0083\n",
      "Epoch 115/200\n",
      "89/89 [==============================] - 0s 1ms/step - loss: 0.0076\n",
      "Epoch 116/200\n",
      "89/89 [==============================] - 0s 1ms/step - loss: 0.0080\n",
      "Epoch 117/200\n",
      "89/89 [==============================] - 0s 1ms/step - loss: 0.0080\n",
      "Epoch 118/200\n",
      "89/89 [==============================] - 0s 1ms/step - loss: 0.0079\n",
      "Epoch 119/200\n",
      "89/89 [==============================] - 0s 1ms/step - loss: 0.0075\n",
      "Epoch 120/200\n",
      "89/89 [==============================] - 0s 1ms/step - loss: 0.0074\n",
      "Epoch 121/200\n",
      "89/89 [==============================] - 0s 1ms/step - loss: 0.0081\n",
      "Epoch 122/200\n",
      "89/89 [==============================] - 0s 1ms/step - loss: 0.0076\n",
      "Epoch 123/200\n",
      "89/89 [==============================] - 0s 1ms/step - loss: 0.0074\n",
      "Epoch 124/200\n",
      "89/89 [==============================] - 0s 1ms/step - loss: 0.0072\n",
      "Epoch 125/200\n",
      "89/89 [==============================] - 0s 1ms/step - loss: 0.0074\n",
      "Epoch 126/200\n",
      "89/89 [==============================] - 0s 1ms/step - loss: 0.0075\n",
      "Epoch 127/200\n",
      "89/89 [==============================] - 0s 1ms/step - loss: 0.0077\n",
      "Epoch 128/200\n",
      "89/89 [==============================] - 0s 1ms/step - loss: 0.0081\n",
      "Epoch 129/200\n",
      "89/89 [==============================] - 0s 1ms/step - loss: 0.0087\n",
      "Epoch 130/200\n",
      "89/89 [==============================] - 0s 1ms/step - loss: 0.0084\n",
      "Epoch 131/200\n",
      "89/89 [==============================] - 0s 1ms/step - loss: 0.0078\n",
      "Epoch 132/200\n",
      "89/89 [==============================] - 0s 1ms/step - loss: 0.0081\n",
      "Epoch 133/200\n",
      "89/89 [==============================] - 0s 1ms/step - loss: 0.0085\n",
      "Epoch 134/200\n",
      "89/89 [==============================] - 0s 1ms/step - loss: 0.0075\n",
      "Epoch 135/200\n",
      "89/89 [==============================] - 0s 1ms/step - loss: 0.0080\n",
      "Epoch 136/200\n",
      "89/89 [==============================] - 0s 1ms/step - loss: 0.0084\n",
      "Epoch 137/200\n",
      "89/89 [==============================] - 0s 1ms/step - loss: 0.0072\n",
      "Epoch 138/200\n",
      "89/89 [==============================] - 0s 1ms/step - loss: 0.0074\n",
      "Epoch 139/200\n",
      "89/89 [==============================] - 0s 1ms/step - loss: 0.0071\n",
      "Epoch 140/200\n",
      "89/89 [==============================] - 0s 1ms/step - loss: 0.0071\n",
      "Epoch 141/200\n",
      "89/89 [==============================] - 0s 1ms/step - loss: 0.0068\n",
      "Epoch 142/200\n",
      "89/89 [==============================] - 0s 1ms/step - loss: 0.0069\n",
      "Epoch 143/200\n",
      "89/89 [==============================] - 0s 1ms/step - loss: 0.0073\n",
      "Epoch 144/200\n",
      "89/89 [==============================] - 0s 1ms/step - loss: 0.0076\n",
      "Epoch 145/200\n",
      "89/89 [==============================] - 0s 1ms/step - loss: 0.0081\n",
      "Epoch 146/200\n",
      "89/89 [==============================] - 0s 1ms/step - loss: 0.0077\n",
      "Epoch 147/200\n",
      "89/89 [==============================] - 0s 1ms/step - loss: 0.0069\n",
      "Epoch 148/200\n",
      "89/89 [==============================] - 0s 1ms/step - loss: 0.0070\n",
      "Epoch 149/200\n",
      "89/89 [==============================] - 0s 1ms/step - loss: 0.0077\n",
      "Epoch 150/200\n",
      "89/89 [==============================] - 0s 1ms/step - loss: 0.0073\n",
      "Epoch 151/200\n",
      "89/89 [==============================] - 0s 1ms/step - loss: 0.0075\n",
      "Epoch 152/200\n",
      "89/89 [==============================] - 0s 1ms/step - loss: 0.0076\n",
      "Epoch 153/200\n",
      "89/89 [==============================] - 0s 1ms/step - loss: 0.0074\n",
      "Epoch 154/200\n",
      "89/89 [==============================] - 0s 1ms/step - loss: 0.0082\n",
      "Epoch 155/200\n",
      "89/89 [==============================] - 0s 1ms/step - loss: 0.0067\n",
      "Epoch 156/200\n",
      "89/89 [==============================] - 0s 1ms/step - loss: 0.0067\n",
      "Epoch 157/200\n",
      "89/89 [==============================] - 0s 1ms/step - loss: 0.0076\n",
      "Epoch 158/200\n",
      "89/89 [==============================] - 0s 1ms/step - loss: 0.0079\n",
      "Epoch 159/200\n",
      "89/89 [==============================] - 0s 1ms/step - loss: 0.0072\n",
      "Epoch 160/200\n",
      "89/89 [==============================] - 0s 1ms/step - loss: 0.0079\n",
      "Epoch 161/200\n",
      "89/89 [==============================] - 0s 1ms/step - loss: 0.0090\n",
      "Epoch 162/200\n",
      "89/89 [==============================] - 0s 1ms/step - loss: 0.0074\n",
      "Epoch 163/200\n",
      "89/89 [==============================] - 0s 1ms/step - loss: 0.0079\n",
      "Epoch 164/200\n",
      "89/89 [==============================] - 0s 1ms/step - loss: 0.0074\n",
      "Epoch 165/200\n",
      "89/89 [==============================] - 0s 1ms/step - loss: 0.0068\n",
      "Epoch 166/200\n",
      "89/89 [==============================] - 0s 1ms/step - loss: 0.0070\n",
      "Epoch 167/200\n",
      "89/89 [==============================] - 0s 1ms/step - loss: 0.0067\n",
      "Epoch 168/200\n",
      "89/89 [==============================] - 0s 1ms/step - loss: 0.0075\n",
      "Epoch 169/200\n",
      "89/89 [==============================] - 0s 1ms/step - loss: 0.0070\n",
      "Epoch 170/200\n",
      "89/89 [==============================] - 0s 2ms/step - loss: 0.0076\n",
      "Epoch 171/200\n",
      "89/89 [==============================] - 0s 2ms/step - loss: 0.0086\n",
      "Epoch 172/200\n",
      "89/89 [==============================] - 0s 2ms/step - loss: 0.0105\n",
      "Epoch 173/200\n",
      "89/89 [==============================] - 0s 2ms/step - loss: 0.0083\n",
      "Epoch 174/200\n",
      "89/89 [==============================] - 0s 1ms/step - loss: 0.0074\n",
      "Epoch 175/200\n",
      "89/89 [==============================] - 0s 1ms/step - loss: 0.0064\n",
      "Epoch 176/200\n",
      "89/89 [==============================] - 0s 1ms/step - loss: 0.0072\n",
      "Epoch 177/200\n",
      "89/89 [==============================] - 0s 1ms/step - loss: 0.0076\n",
      "Epoch 178/200\n",
      "89/89 [==============================] - 0s 1ms/step - loss: 0.0063\n",
      "Epoch 179/200\n",
      "89/89 [==============================] - 0s 1ms/step - loss: 0.0063\n",
      "Epoch 180/200\n",
      "89/89 [==============================] - 0s 1ms/step - loss: 0.0062\n",
      "Epoch 181/200\n",
      "89/89 [==============================] - 0s 1ms/step - loss: 0.0067\n",
      "Epoch 182/200\n",
      "89/89 [==============================] - 0s 1ms/step - loss: 0.0064\n",
      "Epoch 183/200\n",
      "89/89 [==============================] - 0s 1ms/step - loss: 0.0063\n",
      "Epoch 184/200\n",
      "89/89 [==============================] - 0s 1ms/step - loss: 0.0063\n",
      "Epoch 185/200\n",
      "89/89 [==============================] - 0s 1ms/step - loss: 0.0062\n",
      "Epoch 186/200\n",
      "89/89 [==============================] - 0s 1ms/step - loss: 0.0063\n",
      "Epoch 187/200\n",
      "89/89 [==============================] - 0s 1ms/step - loss: 0.0065\n",
      "Epoch 188/200\n",
      "89/89 [==============================] - 0s 1ms/step - loss: 0.0065\n",
      "Epoch 189/200\n",
      "89/89 [==============================] - 0s 1ms/step - loss: 0.0062\n",
      "Epoch 190/200\n",
      "89/89 [==============================] - 0s 1ms/step - loss: 0.0064\n",
      "Epoch 191/200\n",
      "89/89 [==============================] - 0s 1ms/step - loss: 0.0062\n",
      "Epoch 192/200\n",
      "89/89 [==============================] - 0s 1ms/step - loss: 0.0061\n",
      "Epoch 193/200\n",
      "89/89 [==============================] - 0s 1ms/step - loss: 0.0062\n",
      "Epoch 194/200\n",
      "89/89 [==============================] - 0s 1ms/step - loss: 0.0061\n",
      "Epoch 195/200\n",
      "89/89 [==============================] - 0s 1ms/step - loss: 0.0060\n",
      "Epoch 196/200\n",
      "89/89 [==============================] - 0s 1ms/step - loss: 0.0070\n",
      "Epoch 197/200\n",
      "89/89 [==============================] - 0s 1ms/step - loss: 0.0063\n",
      "Epoch 198/200\n",
      "89/89 [==============================] - 0s 1ms/step - loss: 0.0057\n",
      "Epoch 199/200\n"
     ]
    },
    {
     "name": "stdout",
     "output_type": "stream",
     "text": [
      "89/89 [==============================] - 0s 1ms/step - loss: 0.0061\n",
      "Epoch 200/200\n",
      "89/89 [==============================] - 0s 1ms/step - loss: 0.0060\n"
     ]
    },
    {
     "data": {
      "text/plain": [
       "<keras.callbacks.callbacks.History at 0x144d60710>"
      ]
     },
     "execution_count": 16,
     "metadata": {},
     "output_type": "execute_result"
    }
   ],
   "source": [
    "model.fit(X, y, epochs=200, batch_size=10)\n"
   ]
  },
  {
   "cell_type": "code",
   "execution_count": 17,
   "metadata": {},
   "outputs": [],
   "source": [
    "predicted_value= model.predict(X_test)\n"
   ]
  },
  {
   "cell_type": "code",
   "execution_count": 18,
   "metadata": {},
   "outputs": [
    {
     "data": {
      "image/png": "[encoded data removed]",
      "text/plain": [
       "<Figure size 432x288 with 1 Axes>"
      ]
     },
     "metadata": {
      "needs_background": "light"
     },
     "output_type": "display_data"
    }
   ],
   "source": [
    "plt.plot(predicted_value, color= 'red')\n",
    "plt.plot(input_data[lookback:test_size+(2*lookback),1], color='green')\n",
    "plt.title(\"Opening price of stocks sold\")\n",
    "plt.xlabel(\"Time)\")\n",
    "plt.ylabel(\"Stock Opening Price\")\n",
    "plt.show()"
   ]
  },
  {
   "cell_type": "code",
   "execution_count": null,
   "metadata": {},
   "outputs": [],
   "source": []
  }
 ],
 "metadata": {
  "kernelspec": {
   "display_name": "Python 3",
   "language": "python",
   "name": "python3"
  },
  "language_info": {
   "codemirror_mode": {
    "name": "ipython",
    "version": 3
   },
   "file_extension": ".py",
   "mimetype": "text/x-python",
   "name": "python",
   "nbconvert_exporter": "python",
   "pygments_lexer": "ipython3",
   "version": "3.7.5"
  }
 },
 "nbformat": 4,
 "nbformat_minor": 2
}
