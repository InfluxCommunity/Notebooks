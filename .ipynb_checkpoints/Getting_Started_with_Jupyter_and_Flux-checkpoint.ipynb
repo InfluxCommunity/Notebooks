{
 "cells": [
  {
   "cell_type": "markdown",
   "metadata": {},
   "source": [
    "# Getting Started with Jupyter and Flux\n",
    "## This is a simple tutorial to get you querying InfluxDB with the [Flux interpreter](https://github.com/bonitoo-io/ipython-flux). "
   ]
  },
  {
   "cell_type": "markdown",
   "metadata": {},
   "source": [
    "### ASSUMPTIONS: you have already have InfluxDB running and have a bucket with water data entitled, \"test_bucket_ipython\"."
   ]
  },
  {
   "cell_type": "markdown",
   "metadata": {},
   "source": [
    "### STEP ONE: import dependencies and install the ipython-flux interpreter. \n"
   ]
  },
  {
   "cell_type": "code",
   "execution_count": null,
   "metadata": {},
   "outputs": [],
   "source": [
    "import sys\n",
    "# install dependencies into jupyter\n",
    "!{sys.executable} -m pip install pandas ipython-flux\n",
    "\n",
    "# enable flux magic extension\n",
    "%load_ext flux"
   ]
  },
  {
   "cell_type": "markdown",
   "metadata": {},
   "source": [
    "### STEP TWO: Set up your InfluxDB credentials  "
   ]
  },
  {
   "cell_type": "markdown",
   "metadata": {},
   "source": [
    "Gather your credentials: [oranization](https://docs.influxdata.com/influxdb/v2.0/organizations/), [user](x/user/list/#usage), and [token](https://docs.influxdata.com/influxdb/v2.0/security/tokens/). The org-name, orgID, username, and userID,can be found under the **profile icon** and in the **about me** page in the UI. Your tokens can be found in the **Data** page. Follow the **Data** tab, circled in pink in the nav bar to access your tokens. For the Flux interpreter you only need a token and an org-name. \n",
    "![credentials](img/credentials.png)"
   ]
  },
  {
   "cell_type": "code",
   "execution_count": null,
   "metadata": {},
   "outputs": [],
   "source": [
    "%flux http://localhost:8086 --token my-token --org my-org"
   ]
  },
  {
   "cell_type": "markdown",
   "metadata": {},
   "source": [
    "### STEP THREE: Write your Flux query, store the DataFrame response in a variable, and return the first five rows of the DataFrame with the [head](https://pandas.pydata.org/pandas-docs/stable/reference/api/pandas.DataFrame.head.html) function. "
   ]
  },
  {
   "cell_type": "code",
   "execution_count": null,
   "metadata": {},
   "outputs": [],
   "source": [
    "%%flux my_dataset <<\n",
    "from(bucket: \"test_bucket_ipython\")\n",
    "        |> range(start: 0, stop: now())\n",
    "        |> filter(fn: (r) => r[\"_measurement\"] == \"h2o_feet\")\n",
    "        |> filter(fn: (r) => r[\"_field\"] == \"water_level\")\n",
    "        |> filter(fn: (r) => r.location == \"location_0\")\n",
    "        |> filter(fn: (r) => r._field == \"water_level\")\n",
    "        |> drop(columns: [\"_start\", \"_stop\", \"table\", \"_field\", \"_measurement\"])\n",
    "        |> rename(columns: {_value: \"water_level\"})\n",
    "\n",
    "my_dataset.head()"
   ]
  }
 ],
 "metadata": {
  "kernelspec": {
   "display_name": "Python 3",
   "language": "python",
   "name": "python3"
  },
  "language_info": {
   "codemirror_mode": {
    "name": "ipython",
    "version": 3
   },
   "file_extension": ".py",
   "mimetype": "text/x-python",
   "name": "python",
   "nbconvert_exporter": "python",
   "pygments_lexer": "ipython3",
   "version": "3.7.5"
  }
 },
 "nbformat": 4,
 "nbformat_minor": 4
}
