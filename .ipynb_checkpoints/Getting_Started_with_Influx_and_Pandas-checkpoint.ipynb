{
 "cells": [
  {
   "cell_type": "markdown",
   "metadata": {},
   "source": [
    "# Getting Started with Influx and Pandas\n",
    "## This is a simple tutorial to get you querying Influx, converting your time series data into a DataFrame, and converting your dataframe back into line protocol using the [Influx Python Client Library](https://github.com/influxdata/influxdb-client-python). "
   ]
  },
  {
   "cell_type": "markdown",
   "metadata": {},
   "source": [
    "### ASSUMPTIONS: you have already configured telegraf to gather system stats on your machine.\n",
    "### CONSIDERATIONS: the conversion to line protocol isn't part of the client. "
   ]
  },
  {
   "cell_type": "markdown",
   "metadata": {},
   "source": [
    "### STEP ONE: import dependencies "
   ]
  },
  {
   "cell_type": "code",
   "execution_count": 1,
   "metadata": {},
   "outputs": [
    {
     "ename": "ModuleNotFoundError",
     "evalue": "No module named 'dataframe_to_line_protocol'",
     "output_type": "error",
     "traceback": [
      "\u001b[0;31m---------------------------------------------------------------------------\u001b[0m",
      "\u001b[0;31mModuleNotFoundError\u001b[0m                       Traceback (most recent call last)",
      "\u001b[0;32m<ipython-input-1-9d2c3c23d4e5>\u001b[0m in \u001b[0;36m<module>\u001b[0;34m()\u001b[0m\n\u001b[1;32m      1\u001b[0m \u001b[0;32mfrom\u001b[0m \u001b[0minfluxdb_client\u001b[0m \u001b[0;32mimport\u001b[0m \u001b[0mInfluxDBClient\u001b[0m\u001b[0;34m\u001b[0m\u001b[0;34m\u001b[0m\u001b[0m\n\u001b[1;32m      2\u001b[0m \u001b[0;32mimport\u001b[0m \u001b[0mpandas\u001b[0m \u001b[0;32mas\u001b[0m \u001b[0mpd\u001b[0m\u001b[0;34m\u001b[0m\u001b[0;34m\u001b[0m\u001b[0m\n\u001b[0;32m----> 3\u001b[0;31m \u001b[0;32mfrom\u001b[0m \u001b[0mdataframe_to_line_protocol\u001b[0m \u001b[0;32mimport\u001b[0m \u001b[0mlp\u001b[0m\u001b[0;34m\u001b[0m\u001b[0;34m\u001b[0m\u001b[0m\n\u001b[0m",
      "\u001b[0;31mModuleNotFoundError\u001b[0m: No module named 'dataframe_to_line_protocol'"
     ]
    }
   ],
   "source": [
    "from influxdb_client import InfluxDBClient\n",
    "import pandas as pd\n",
    "from dataframe_to_line_protocol import lp"
   ]
  },
  {
   "cell_type": "markdown",
   "metadata": {},
   "source": [
    "### STEP TWO: Supply auth parameteres "
   ]
  },
  {
   "cell_type": "code",
   "execution_count": 2,
   "metadata": {},
   "outputs": [],
   "source": [
    "my_token = $INFLUXTOKEN\n",
    "my_org = \"my-org\"\n",
    "bucket = \"system\"\n",
    "url=\"http://localhost:9999\"\n",
    "urlCloud = \"https://us-west-2-1.aws.cloud2.influxdata.com/\""
   ]
  },
  {
   "cell_type": "markdown",
   "metadata": {},
   "source": [
    "### STEP THREE: Write your flux query "
   ]
  },
  {
   "cell_type": "code",
   "execution_count": 6,
   "metadata": {},
   "outputs": [],
   "source": [
    "query='''\n",
    "from(bucket: \"system\")\n",
    "  |> range(start:-30d, stop: now())\n",
    "  |> filter(fn: (r) => r._measurement == \"cpu\")\n",
    "  |> filter(fn: (r) => r._field == \"usage_user\")\n",
    "  |> filter(fn: (r) => r.cpu == \"cpu-total\")\n",
    "'''"
   ]
  },
  {
   "cell_type": "markdown",
   "metadata": {},
   "source": [
    "### STEP FOUR: Query Influx and return a DataFrame"
   ]
  },
  {
   "cell_type": "code",
   "execution_count": 7,
   "metadata": {},
   "outputs": [
    {
     "name": "stderr",
     "output_type": "stream",
     "text": [
      "/usr/local/lib/python3.7/site-packages/pandas/core/frame.py:6211: FutureWarning: Sorting because non-concatenation axis is not aligned. A future version\n",
      "of pandas will change to not sort by default.\n",
      "\n",
      "To accept the future behavior, pass 'sort=False'.\n",
      "\n",
      "To retain the current behavior and silence the warning, pass 'sort=True'.\n",
      "\n",
      "  sort=sort)\n"
     ]
    },
    {
     "data": {
      "text/html": [
       "<div>\n",
       "<style scoped>\n",
       "    .dataframe tbody tr th:only-of-type {\n",
       "        vertical-align: middle;\n",
       "    }\n",
       "\n",
       "    .dataframe tbody tr th {\n",
       "        vertical-align: top;\n",
       "    }\n",
       "\n",
       "    .dataframe thead th {\n",
       "        text-align: right;\n",
       "    }\n",
       "</style>\n",
       "<table border=\"1\" class=\"dataframe\">\n",
       "  <thead>\n",
       "    <tr style=\"text-align: right;\">\n",
       "      <th></th>\n",
       "      <th>_field</th>\n",
       "      <th>_measurement</th>\n",
       "      <th>_start</th>\n",
       "      <th>_stop</th>\n",
       "      <th>_time</th>\n",
       "      <th>_value</th>\n",
       "      <th>cpu</th>\n",
       "      <th>host</th>\n",
       "      <th>result</th>\n",
       "      <th>table</th>\n",
       "    </tr>\n",
       "  </thead>\n",
       "  <tbody>\n",
       "    <tr>\n",
       "      <th>0</th>\n",
       "      <td>usage_user</td>\n",
       "      <td>cpu</td>\n",
       "      <td>2020-05-05 21:06:01.166596+00:00</td>\n",
       "      <td>2020-06-04 21:06:01.166596+00:00</td>\n",
       "      <td>2020-05-06 16:13:00+00:00</td>\n",
       "      <td>11.169415</td>\n",
       "      <td>cpu-total</td>\n",
       "      <td>Anais.attlocal.net</td>\n",
       "      <td>_result</td>\n",
       "      <td>0</td>\n",
       "    </tr>\n",
       "    <tr>\n",
       "      <th>1</th>\n",
       "      <td>usage_user</td>\n",
       "      <td>cpu</td>\n",
       "      <td>2020-05-05 21:06:01.166596+00:00</td>\n",
       "      <td>2020-06-04 21:06:01.166596+00:00</td>\n",
       "      <td>2020-05-06 16:13:10+00:00</td>\n",
       "      <td>15.671082</td>\n",
       "      <td>cpu-total</td>\n",
       "      <td>Anais.attlocal.net</td>\n",
       "      <td>_result</td>\n",
       "      <td>0</td>\n",
       "    </tr>\n",
       "    <tr>\n",
       "      <th>2</th>\n",
       "      <td>usage_user</td>\n",
       "      <td>cpu</td>\n",
       "      <td>2020-05-05 21:06:01.166596+00:00</td>\n",
       "      <td>2020-06-04 21:06:01.166596+00:00</td>\n",
       "      <td>2020-05-06 16:13:20+00:00</td>\n",
       "      <td>14.889361</td>\n",
       "      <td>cpu-total</td>\n",
       "      <td>Anais.attlocal.net</td>\n",
       "      <td>_result</td>\n",
       "      <td>0</td>\n",
       "    </tr>\n",
       "    <tr>\n",
       "      <th>3</th>\n",
       "      <td>usage_user</td>\n",
       "      <td>cpu</td>\n",
       "      <td>2020-05-05 21:06:01.166596+00:00</td>\n",
       "      <td>2020-06-04 21:06:01.166596+00:00</td>\n",
       "      <td>2020-05-06 16:13:30+00:00</td>\n",
       "      <td>14.562500</td>\n",
       "      <td>cpu-total</td>\n",
       "      <td>Anais.attlocal.net</td>\n",
       "      <td>_result</td>\n",
       "      <td>0</td>\n",
       "    </tr>\n",
       "    <tr>\n",
       "      <th>4</th>\n",
       "      <td>usage_user</td>\n",
       "      <td>cpu</td>\n",
       "      <td>2020-05-05 21:06:01.166596+00:00</td>\n",
       "      <td>2020-06-04 21:06:01.166596+00:00</td>\n",
       "      <td>2020-05-06 16:13:40+00:00</td>\n",
       "      <td>12.567213</td>\n",
       "      <td>cpu-total</td>\n",
       "      <td>Anais.attlocal.net</td>\n",
       "      <td>_result</td>\n",
       "      <td>0</td>\n",
       "    </tr>\n",
       "  </tbody>\n",
       "</table>\n",
       "</div>"
      ],
      "text/plain": [
       "       _field _measurement                            _start  \\\n",
       "0  usage_user          cpu  2020-05-05 21:06:01.166596+00:00   \n",
       "1  usage_user          cpu  2020-05-05 21:06:01.166596+00:00   \n",
       "2  usage_user          cpu  2020-05-05 21:06:01.166596+00:00   \n",
       "3  usage_user          cpu  2020-05-05 21:06:01.166596+00:00   \n",
       "4  usage_user          cpu  2020-05-05 21:06:01.166596+00:00   \n",
       "\n",
       "                              _stop                      _time     _value  \\\n",
       "0  2020-06-04 21:06:01.166596+00:00  2020-05-06 16:13:00+00:00  11.169415   \n",
       "1  2020-06-04 21:06:01.166596+00:00  2020-05-06 16:13:10+00:00  15.671082   \n",
       "2  2020-06-04 21:06:01.166596+00:00  2020-05-06 16:13:20+00:00  14.889361   \n",
       "3  2020-06-04 21:06:01.166596+00:00  2020-05-06 16:13:30+00:00  14.562500   \n",
       "4  2020-06-04 21:06:01.166596+00:00  2020-05-06 16:13:40+00:00  12.567213   \n",
       "\n",
       "         cpu                host   result table  \n",
       "0  cpu-total  Anais.attlocal.net  _result     0  \n",
       "1  cpu-total  Anais.attlocal.net  _result     0  \n",
       "2  cpu-total  Anais.attlocal.net  _result     0  \n",
       "3  cpu-total  Anais.attlocal.net  _result     0  \n",
       "4  cpu-total  Anais.attlocal.net  _result     0  "
      ]
     },
     "execution_count": 7,
     "metadata": {},
     "output_type": "execute_result"
    }
   ],
   "source": [
    "client = InfluxDBClient(url=url, token=my_token, org=my_org, debug=False)\n",
    "\n",
    "system_stats = client.query_api().query_data_frame(org=my_org, query=query)\n",
    "system_stats.head()"
   ]
  },
  {
   "cell_type": "markdown",
   "metadata": {},
   "source": [
    "### STEP FIVE: write points to Influx"
   ]
  },
  {
   "cell_type": "code",
   "execution_count": null,
   "metadata": {},
   "outputs": [],
   "source": [
    "from influxdb_client import InfluxDBClient, Point, WriteOptions\n",
    "from influxdb_client.client.write_api import SYNCHRONOUS\n",
    "\n",
    "_write_client = client.write_api(write_options=WriteOptions(batch_size=1000, \n",
    "                                                            flush_interval=10_000,\n",
    "                                                            jitter_interval=2_000,\n",
    "                                                            retry_interval=5_000))\n",
    "\n",
    "_write_client.write(bucket, my_org, lines)"
   ]
  },
  {
   "cell_type": "code",
   "execution_count": 47,
   "metadata": {},
   "outputs": [],
   "source": [
    "#To close the client \n",
    "_write_client.__del__()\n",
    "client.__del__()"
   ]
  }
 ],
 "metadata": {
  "kernelspec": {
   "display_name": "Python 3",
   "language": "python",
   "name": "python3"
  },
  "language_info": {
   "codemirror_mode": {
    "name": "ipython",
    "version": 3
   },
   "file_extension": ".py",
   "mimetype": "text/x-python",
   "name": "python",
   "nbconvert_exporter": "python",
   "pygments_lexer": "ipython3",
   "version": "3.7.5"
  }
 },
 "nbformat": 4,
 "nbformat_minor": 2
}
