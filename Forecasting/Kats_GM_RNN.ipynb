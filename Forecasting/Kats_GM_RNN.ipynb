{
 "cells": [
  {
   "cell_type": "markdown",
   "id": "6a88a117",
   "metadata": {},
   "source": [
    "# KATS GM-RNN\n",
    "\n",
    "Learn how to make a forecast on the NOAA sample dataset with the pretrained GM-RNN model from Kats. "
   ]
  },
  {
   "cell_type": "markdown",
   "id": "12baea6c",
   "metadata": {},
   "source": [
    "## Step One: \n",
    "Import Dependencies"
   ]
  },
  {
   "cell_type": "code",
   "execution_count": 1,
   "id": "921953f6",
   "metadata": {},
   "outputs": [
    {
     "name": "stderr",
     "output_type": "stream",
     "text": [
      "/usr/local/lib/python3.9/site-packages/tqdm/auto.py:22: TqdmWarning: IProgress not found. Please update jupyter and ipywidgets. See https://ipywidgets.readthedocs.io/en/stable/user_install.html\n",
      "  from .autonotebook import tqdm as notebook_tqdm\n"
     ]
    }
   ],
   "source": [
    "import pandas as pd\n",
    "import numpy as np\n",
    "import warnings\n",
    "from sklearn.model_selection import train_test_split\n",
    "from influxdb_client import InfluxDBClient\n",
    "from influxdb_client.client.write_api import SYNCHRONOUS\n",
    "from kats.consts import TimeSeriesData\n",
    "\n",
    "from kats.models.sarima import SARIMAModel, SARIMAParams\n",
    "import kats.utils.time_series_parameter_tuning as tpt\n",
    "from kats.consts import ModelEnum, SearchMethodEnum, TimeSeriesData\n",
    "from kats.models.arima import ARIMAParams, ARIMAModel\n",
    "from kats.models.globalmodel.ensemble import GMEnsemble, load_gmensemble_from_file\n",
    "\n",
    "from ax.core.parameter import ChoiceParameter, FixedParameter, ParameterType\n",
    "from ax.models.random.sobol import SobolGenerator\n",
    "from ax.models.random.uniform import UniformGenerator\n",
    "warnings.simplefilter(action='ignore')\n"
   ]
  },
  {
   "cell_type": "markdown",
   "id": "89ff6538",
   "metadata": {},
   "source": [
    "## Step Two:\n",
    "Instantiate the Python Client Libary and build the Flux query. \n"
   ]
  },
  {
   "cell_type": "code",
   "execution_count": 2,
   "id": "2d8ae165",
   "metadata": {},
   "outputs": [],
   "source": [
    "client = InfluxDBClient(url=\"http://localhost:8086\", token=\"RfLcvJ0P8Fr4DZryF_R-HBhO42TouTR3WxnXV-vQXpUYg6Wgv2_kMhxbeNnzYoOYldTqTMgvP7fZJCmhq6TTZg==\", org=\"fa24a6fb5e6d25d0\")\n",
    "write_api = client.write_api(write_options=SYNCHRONOUS)\n",
    "query_api = client.query_api()"
   ]
  },
  {
   "cell_type": "code",
   "execution_count": 3,
   "id": "532c7833",
   "metadata": {},
   "outputs": [],
   "source": [
    "df = query_api.query_data_frame('from(bucket: \"noaa\")'\n",
    "  '|> range(start: -100d)'\n",
    "  '|> filter(fn: (r) => r[\"_measurement\"] == \"average_temperature\")'\n",
    "  '|> filter(fn: (r) => r[\"_field\"] == \"degrees\")'\n",
    "  '|> filter(fn: (r) => r[\"location\"] == \"coyote_creek\")'\n",
    "  '|> aggregateWindow(every: 1d, fn: mean, createEmpty: false)'\n",
    "  '|> pivot(rowKey:[\"_time\"], columnKey: [\"_field\"], valueColumn: \"_value\")'\n",
    "  '|> keep(columns:[\"_time\",\"degrees\"])')"
   ]
  },
  {
   "cell_type": "code",
   "execution_count": 4,
   "id": "2da133fa",
   "metadata": {},
   "outputs": [
    {
     "data": {
      "text/html": [
       "<div>\n",
       "<style scoped>\n",
       "    .dataframe tbody tr th:only-of-type {\n",
       "        vertical-align: middle;\n",
       "    }\n",
       "\n",
       "    .dataframe tbody tr th {\n",
       "        vertical-align: top;\n",
       "    }\n",
       "\n",
       "    .dataframe thead th {\n",
       "        text-align: right;\n",
       "    }\n",
       "</style>\n",
       "<table border=\"1\" class=\"dataframe\">\n",
       "  <thead>\n",
       "    <tr style=\"text-align: right;\">\n",
       "      <th></th>\n",
       "      <th>time</th>\n",
       "      <th>degrees</th>\n",
       "    </tr>\n",
       "  </thead>\n",
       "  <tbody>\n",
       "    <tr>\n",
       "      <th>0</th>\n",
       "      <td>2022-06-29 00:00:00+00:00</td>\n",
       "      <td>79.889140</td>\n",
       "    </tr>\n",
       "    <tr>\n",
       "      <th>1</th>\n",
       "      <td>2022-06-30 00:00:00+00:00</td>\n",
       "      <td>79.802083</td>\n",
       "    </tr>\n",
       "    <tr>\n",
       "      <th>2</th>\n",
       "      <td>2022-07-01 00:00:00+00:00</td>\n",
       "      <td>80.364583</td>\n",
       "    </tr>\n",
       "    <tr>\n",
       "      <th>3</th>\n",
       "      <td>2022-07-02 00:00:00+00:00</td>\n",
       "      <td>79.904167</td>\n",
       "    </tr>\n",
       "    <tr>\n",
       "      <th>4</th>\n",
       "      <td>2022-07-03 00:00:00+00:00</td>\n",
       "      <td>80.172917</td>\n",
       "    </tr>\n",
       "  </tbody>\n",
       "</table>\n",
       "</div>"
      ],
      "text/plain": [
       "                       time    degrees\n",
       "0 2022-06-29 00:00:00+00:00  79.889140\n",
       "1 2022-06-30 00:00:00+00:00  79.802083\n",
       "2 2022-07-01 00:00:00+00:00  80.364583\n",
       "3 2022-07-02 00:00:00+00:00  79.904167\n",
       "4 2022-07-03 00:00:00+00:00  80.172917"
      ]
     },
     "execution_count": 4,
     "metadata": {},
     "output_type": "execute_result"
    }
   ],
   "source": [
    "df = df.copy()\n",
    "df = df.drop(columns=['result', 'table'])\n",
    "df = df.rename(columns={\"_time\": \"time\"})\n",
    "df.head()"
   ]
  },
  {
   "cell_type": "code",
   "execution_count": 5,
   "id": "0a8fe78c",
   "metadata": {},
   "outputs": [],
   "source": [
    "df_plot = df.set_index('time')"
   ]
  },
  {
   "cell_type": "code",
   "execution_count": 6,
   "id": "c7d10120",
   "metadata": {},
   "outputs": [
    {
     "data": {
      "text/plain": [
       "<AxesSubplot:xlabel='time'>"
      ]
     },
     "execution_count": 6,
     "metadata": {},
     "output_type": "execute_result"
    },
    {
     "data": {
      "image/png": "[encoded data removed]",
      "text/plain": [
       "<Figure size 432x288 with 1 Axes>"
      ]
     },
     "metadata": {
      "needs_background": "light"
     },
     "output_type": "display_data"
    }
   ],
   "source": [
    "df_plot.plot()"
   ]
  },
  {
   "cell_type": "markdown",
   "id": "38155a94",
   "metadata": {},
   "source": [
    "## Step Three: \n",
    "Reformat timestamp."
   ]
  },
  {
   "cell_type": "code",
   "execution_count": 7,
   "id": "641b7994",
   "metadata": {},
   "outputs": [],
   "source": [
    "df[\"time\"] = df[\"time\"].apply(lambda x: x.strftime('%Y-%m-%d'))\n",
    "df = df.head(30)"
   ]
  },
  {
   "cell_type": "markdown",
   "id": "3b0f4e4f",
   "metadata": {},
   "source": [
    "# Step Four: \n",
    "Split into train and test"
   ]
  },
  {
   "cell_type": "code",
   "execution_count": 8,
   "id": "87579413",
   "metadata": {},
   "outputs": [],
   "source": [
    "train = df.head(27)\n",
    "test = df.tail(3).reset_index(drop=True)"
   ]
  },
  {
   "cell_type": "code",
   "execution_count": 9,
   "id": "8aaf8c0e",
   "metadata": {},
   "outputs": [],
   "source": [
    "df_ts = TimeSeriesData(train)"
   ]
  },
  {
   "cell_type": "markdown",
   "id": "7eb95bfe",
   "metadata": {},
   "source": [
    "## Step Five:\n",
    "Load model and create forecast. "
   ]
  },
  {
   "cell_type": "code",
   "execution_count": 10,
   "id": "34bff4d0",
   "metadata": {},
   "outputs": [
    {
     "data": {
      "text/plain": [
       "<kats.models.globalmodel.ensemble.GMEnsemble at 0x159ae0fd0>"
      ]
     },
     "execution_count": 10,
     "metadata": {},
     "output_type": "execute_result"
    }
   ],
   "source": [
    "gme_rnn = load_gmensemble_from_file(\"models/pretrained_daily_rnn.p\")\n",
    "gme_rnn"
   ]
  },
  {
   "cell_type": "code",
   "execution_count": 11,
   "id": "af16e28c",
   "metadata": {},
   "outputs": [],
   "source": [
    "fcsts = gme_rnn.predict(df_ts, steps = 3)"
   ]
  },
  {
   "cell_type": "code",
   "execution_count": 12,
   "id": "b4e26cbd",
   "metadata": {},
   "outputs": [
    {
     "data": {
      "text/html": [
       "<div>\n",
       "<style scoped>\n",
       "    .dataframe tbody tr th:only-of-type {\n",
       "        vertical-align: middle;\n",
       "    }\n",
       "\n",
       "    .dataframe tbody tr th {\n",
       "        vertical-align: top;\n",
       "    }\n",
       "\n",
       "    .dataframe thead th {\n",
       "        text-align: right;\n",
       "    }\n",
       "</style>\n",
       "<table border=\"1\" class=\"dataframe\">\n",
       "  <thead>\n",
       "    <tr style=\"text-align: right;\">\n",
       "      <th></th>\n",
       "      <th>fcst_quantile_0.5</th>\n",
       "      <th>fcst_quantile_0.01</th>\n",
       "      <th>fcst_quantile_0.05</th>\n",
       "      <th>fcst_quantile_0.95</th>\n",
       "      <th>fcst_quantile_0.99</th>\n",
       "      <th>time</th>\n",
       "    </tr>\n",
       "  </thead>\n",
       "  <tbody>\n",
       "    <tr>\n",
       "      <th>0</th>\n",
       "      <td>80.012970</td>\n",
       "      <td>77.467003</td>\n",
       "      <td>78.521225</td>\n",
       "      <td>81.357292</td>\n",
       "      <td>82.351753</td>\n",
       "      <td>2022-07-26</td>\n",
       "    </tr>\n",
       "    <tr>\n",
       "      <th>1</th>\n",
       "      <td>79.947342</td>\n",
       "      <td>76.499969</td>\n",
       "      <td>77.853577</td>\n",
       "      <td>81.896912</td>\n",
       "      <td>83.031448</td>\n",
       "      <td>2022-07-27</td>\n",
       "    </tr>\n",
       "    <tr>\n",
       "      <th>2</th>\n",
       "      <td>80.016144</td>\n",
       "      <td>75.737137</td>\n",
       "      <td>77.570724</td>\n",
       "      <td>82.271881</td>\n",
       "      <td>83.840042</td>\n",
       "      <td>2022-07-28</td>\n",
       "    </tr>\n",
       "  </tbody>\n",
       "</table>\n",
       "</div>"
      ],
      "text/plain": [
       "   fcst_quantile_0.5  fcst_quantile_0.01  fcst_quantile_0.05  \\\n",
       "0          80.012970           77.467003           78.521225   \n",
       "1          79.947342           76.499969           77.853577   \n",
       "2          80.016144           75.737137           77.570724   \n",
       "\n",
       "   fcst_quantile_0.95  fcst_quantile_0.99       time  \n",
       "0           81.357292           82.351753 2022-07-26  \n",
       "1           81.896912           83.031448 2022-07-27  \n",
       "2           82.271881           83.840042 2022-07-28  "
      ]
     },
     "execution_count": 12,
     "metadata": {},
     "output_type": "execute_result"
    }
   ],
   "source": [
    "fcsts_df = list(fcsts.items())[0][1]\n",
    "fcsts_df"
   ]
  },
  {
   "cell_type": "code",
   "execution_count": 13,
   "id": "9c55820a",
   "metadata": {},
   "outputs": [
    {
     "data": {
      "text/html": [
       "<div>\n",
       "<style scoped>\n",
       "    .dataframe tbody tr th:only-of-type {\n",
       "        vertical-align: middle;\n",
       "    }\n",
       "\n",
       "    .dataframe tbody tr th {\n",
       "        vertical-align: top;\n",
       "    }\n",
       "\n",
       "    .dataframe thead th {\n",
       "        text-align: right;\n",
       "    }\n",
       "</style>\n",
       "<table border=\"1\" class=\"dataframe\">\n",
       "  <thead>\n",
       "    <tr style=\"text-align: right;\">\n",
       "      <th></th>\n",
       "      <th>fcst_quantile_0.5</th>\n",
       "      <th>fcst_quantile_0.01</th>\n",
       "      <th>fcst_quantile_0.05</th>\n",
       "      <th>fcst_quantile_0.95</th>\n",
       "      <th>fcst_quantile_0.99</th>\n",
       "      <th>time</th>\n",
       "      <th>degrees</th>\n",
       "    </tr>\n",
       "  </thead>\n",
       "  <tbody>\n",
       "    <tr>\n",
       "      <th>0</th>\n",
       "      <td>80.012970</td>\n",
       "      <td>77.467003</td>\n",
       "      <td>78.521225</td>\n",
       "      <td>81.357292</td>\n",
       "      <td>82.351753</td>\n",
       "      <td>2022-07-26</td>\n",
       "      <td>80.150000</td>\n",
       "    </tr>\n",
       "    <tr>\n",
       "      <th>1</th>\n",
       "      <td>79.947342</td>\n",
       "      <td>76.499969</td>\n",
       "      <td>77.853577</td>\n",
       "      <td>81.896912</td>\n",
       "      <td>83.031448</td>\n",
       "      <td>2022-07-27</td>\n",
       "      <td>79.956250</td>\n",
       "    </tr>\n",
       "    <tr>\n",
       "      <th>2</th>\n",
       "      <td>80.016144</td>\n",
       "      <td>75.737137</td>\n",
       "      <td>77.570724</td>\n",
       "      <td>82.271881</td>\n",
       "      <td>83.840042</td>\n",
       "      <td>2022-07-28</td>\n",
       "      <td>79.845833</td>\n",
       "    </tr>\n",
       "  </tbody>\n",
       "</table>\n",
       "</div>"
      ],
      "text/plain": [
       "   fcst_quantile_0.5  fcst_quantile_0.01  fcst_quantile_0.05  \\\n",
       "0          80.012970           77.467003           78.521225   \n",
       "1          79.947342           76.499969           77.853577   \n",
       "2          80.016144           75.737137           77.570724   \n",
       "\n",
       "   fcst_quantile_0.95  fcst_quantile_0.99       time    degrees  \n",
       "0           81.357292           82.351753 2022-07-26  80.150000  \n",
       "1           81.896912           83.031448 2022-07-27  79.956250  \n",
       "2           82.271881           83.840042 2022-07-28  79.845833  "
      ]
     },
     "execution_count": 13,
     "metadata": {},
     "output_type": "execute_result"
    }
   ],
   "source": [
    "fcsts_df = fcsts_df.join(test[\"degrees\"])\n",
    "fcsts_df.head()\n",
    "# fcsts_df.plot()"
   ]
  },
  {
   "cell_type": "code",
   "execution_count": 15,
   "id": "9862ae93",
   "metadata": {},
   "outputs": [],
   "source": [
    "fcsts_df = fcsts_df[['fcst_quantile_0.5', 'time']]"
   ]
  },
  {
   "cell_type": "markdown",
   "id": "fa08d6f2",
   "metadata": {},
   "source": [
    "## Step Six:\n",
    "Write data with the client library. "
   ]
  },
  {
   "cell_type": "code",
   "execution_count": 16,
   "id": "83b2e03c",
   "metadata": {},
   "outputs": [],
   "source": [
    "write_api.write(bucket=\"noaa\",\n",
    "               record=fcsts_df,\n",
    "               data_frame_measurement_name=\"forecast\",\n",
    "               data_frame_timestamp_column=\"time\")"
   ]
  }
 ],
 "metadata": {
  "kernelspec": {
   "display_name": "Python 3 (ipykernel)",
   "language": "python",
   "name": "python3"
  },
  "language_info": {
   "codemirror_mode": {
    "name": "ipython",
    "version": 3
   },
   "file_extension": ".py",
   "mimetype": "text/x-python",
   "name": "python",
   "nbconvert_exporter": "python",
   "pygments_lexer": "ipython3",
   "version": "3.9.10"
  }
 },
 "nbformat": 4,
 "nbformat_minor": 5
}
