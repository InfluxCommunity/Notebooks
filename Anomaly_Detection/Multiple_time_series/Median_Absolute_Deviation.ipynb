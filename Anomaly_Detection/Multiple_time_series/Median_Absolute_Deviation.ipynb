{
 "cells": [
  {
   "cell_type": "markdown",
   "metadata": {},
   "source": [
    "# MAD algorithm\n",
    "\"Learn how to detect anomalous CPU behavior using the Median absolute deviation (MAD)algorithm. "
   ]
  },
  {
   "cell_type": "markdown",
   "metadata": {},
   "source": [
    "## What is Medain Absolute Deviation (MAD)? \n",
    "\"In statistics, the median absolute deviation (MAD) is a robust measure of the variability of a univariate sample of quantitative data.\" [Median absolute deviation](https://en.wikipedia.org/wiki/Median_absolute_deviation). In this example we apply MAD across a collection of similar time series instead of a univariate sample. Using MAD in this way allows us to identify anomolous time series that deviate from the rest of the time series. The math for this algorithm is outlined in this [blog](https://www.influxdata.com/blog/anomaly-detection-with-median-absolute-deviation/)\n",
    "\n",
    "## Benefits of Median Absolute Deviation (MAD)\n",
    "The monetary value of anomaly detection DevOps Monitoring enables your organization to measure key performance indicators that are mission-critical to upholding your Service Level Agreements (SLAs). Ideally, Site Reliability Engineers (SREs) use Devops Monitoring to solve operation problems, increase reliability, and guide infrastructure design efforts. Anomaly Detection algorithms like MAD enable SRE’s to identify unhealthy containers, VMs, or servers quickly. The sooner SRE’s are able to spot suspicious behaviour, the faster they are able to diagnose and remedy infrastructure problems. Root cause analysis is a highly complicated type of iterative problem solving. It involves asking deep questions and employing the Five Why’s Method. Finding the problem is just the beginning, solving operation problems can be even more challenging and require a lot of creativity. While Artificial Intelligence isn’t advanced enough to autonomously perform root cause analysis and solve infrastructure problems, anomaly detection still has value. Anomaly detection guides site reliability engineers (SREs) and sysadmins down the right path to reduce the incident resolution time or mean time to resolution (MTTR). Reduction in MTTR enables companies to honor their Service Level Objectives (SLOs), provides a good user experience, and encourages contract renewals. By allowing you to write user defined functions and incorporate custom anomaly detection algorithms, Flux provides this value. InfluxDB v2 alerts and notifications enable SREs to respond to anomalies in real-time.\n",
    "\n",
    "The MAD algorithm is commonly used for this type of anomaly detection because it’s highly effective and efficient. The median, or “middle” value, of all the time series at one point in time describes normal behavior for all of the time series at that timestamp. Large deviations from each individual time series and the median indicate that a series is anomalous."
   ]
  },
  {
   "cell_type": "markdown",
   "metadata": {},
   "source": [
    "## Step One:\n",
    "Import Dependencies"
   ]
  },
  {
   "cell_type": "code",
   "execution_count": 1,
   "metadata": {},
   "outputs": [],
   "source": [
    "import pandas as pd\n",
    "import timesynth as ts"
   ]
  },
  {
   "cell_type": "markdown",
   "metadata": {},
   "source": [
    "## Step Two:  Convert data to a DataFrame \n",
    "\n",
    "Convert data from one of the following sources:\n",
    "\n",
    "- InfluxDB \n",
    "\n",
    "- CSV\n",
    "\n",
    "\n",
    "### To convert from InfluxDB\n",
    "Use the Python InfluxDB Client to query data and return it as a Panda DataFrame. For more information, [Getting Started with InfluxDB and Pandas](../Getting_Started_with_InfluxDB_and_Pandas.ipynb). Then continue to Step 3.\n",
    "\n",
    "### To convert from CSV\n",
    "Run the following code to convert csv data to a Panda DataFrame:"
   ]
  },
  {
   "cell_type": "code",
   "execution_count": 2,
   "metadata": {
    "scrolled": true
   },
   "outputs": [
    {
     "data": {
      "text/html": [
       "<div>\n",
       "<style scoped>\n",
       "    .dataframe tbody tr th:only-of-type {\n",
       "        vertical-align: middle;\n",
       "    }\n",
       "\n",
       "    .dataframe tbody tr th {\n",
       "        vertical-align: top;\n",
       "    }\n",
       "\n",
       "    .dataframe thead th {\n",
       "        text-align: right;\n",
       "    }\n",
       "</style>\n",
       "<table border=\"1\" class=\"dataframe\">\n",
       "  <thead>\n",
       "    <tr style=\"text-align: right;\">\n",
       "      <th></th>\n",
       "      <th>TimeStamp</th>\n",
       "      <th>outlier</th>\n",
       "      <th>0</th>\n",
       "      <th>1</th>\n",
       "      <th>2</th>\n",
       "      <th>3</th>\n",
       "      <th>4</th>\n",
       "      <th>5</th>\n",
       "      <th>6</th>\n",
       "      <th>7</th>\n",
       "      <th>8</th>\n",
       "      <th>9</th>\n",
       "    </tr>\n",
       "  </thead>\n",
       "  <tbody>\n",
       "    <tr>\n",
       "      <th>0</th>\n",
       "      <td>2020-01-01 00:00:00.000000000</td>\n",
       "      <td>0.231026</td>\n",
       "      <td>0.440639</td>\n",
       "      <td>-0.167604</td>\n",
       "      <td>-0.149081</td>\n",
       "      <td>-0.218442</td>\n",
       "      <td>-0.428316</td>\n",
       "      <td>-0.242047</td>\n",
       "      <td>-0.137425</td>\n",
       "      <td>-0.171636</td>\n",
       "      <td>-0.124152</td>\n",
       "      <td>0.170380</td>\n",
       "    </tr>\n",
       "    <tr>\n",
       "      <th>1</th>\n",
       "      <td>2020-01-01 11:39:45.542168576</td>\n",
       "      <td>-0.729871</td>\n",
       "      <td>-0.423899</td>\n",
       "      <td>0.291906</td>\n",
       "      <td>0.449500</td>\n",
       "      <td>0.508535</td>\n",
       "      <td>0.042391</td>\n",
       "      <td>0.193509</td>\n",
       "      <td>-0.261094</td>\n",
       "      <td>0.220839</td>\n",
       "      <td>0.475324</td>\n",
       "      <td>0.427169</td>\n",
       "    </tr>\n",
       "    <tr>\n",
       "      <th>2</th>\n",
       "      <td>2020-01-01 23:19:31.084337408</td>\n",
       "      <td>1.141963</td>\n",
       "      <td>0.677127</td>\n",
       "      <td>0.570914</td>\n",
       "      <td>0.623382</td>\n",
       "      <td>0.878105</td>\n",
       "      <td>0.660618</td>\n",
       "      <td>-0.013742</td>\n",
       "      <td>0.369268</td>\n",
       "      <td>0.859399</td>\n",
       "      <td>0.695049</td>\n",
       "      <td>0.352337</td>\n",
       "    </tr>\n",
       "    <tr>\n",
       "      <th>3</th>\n",
       "      <td>2020-01-02 10:59:16.626505984</td>\n",
       "      <td>0.697885</td>\n",
       "      <td>0.708954</td>\n",
       "      <td>0.263466</td>\n",
       "      <td>0.531120</td>\n",
       "      <td>0.336590</td>\n",
       "      <td>0.431860</td>\n",
       "      <td>0.809973</td>\n",
       "      <td>0.577472</td>\n",
       "      <td>1.129735</td>\n",
       "      <td>0.501844</td>\n",
       "      <td>0.038249</td>\n",
       "    </tr>\n",
       "    <tr>\n",
       "      <th>4</th>\n",
       "      <td>2020-01-02 22:39:02.168674816</td>\n",
       "      <td>1.627959</td>\n",
       "      <td>0.225522</td>\n",
       "      <td>0.740908</td>\n",
       "      <td>0.504309</td>\n",
       "      <td>0.028197</td>\n",
       "      <td>0.447967</td>\n",
       "      <td>0.565526</td>\n",
       "      <td>0.885857</td>\n",
       "      <td>0.142467</td>\n",
       "      <td>0.529941</td>\n",
       "      <td>0.691398</td>\n",
       "    </tr>\n",
       "  </tbody>\n",
       "</table>\n",
       "</div>"
      ],
      "text/plain": [
       "                       TimeStamp   outlier         0         1         2  \\\n",
       "0  2020-01-01 00:00:00.000000000  0.231026  0.440639 -0.167604 -0.149081   \n",
       "1  2020-01-01 11:39:45.542168576 -0.729871 -0.423899  0.291906  0.449500   \n",
       "2  2020-01-01 23:19:31.084337408  1.141963  0.677127  0.570914  0.623382   \n",
       "3  2020-01-02 10:59:16.626505984  0.697885  0.708954  0.263466  0.531120   \n",
       "4  2020-01-02 22:39:02.168674816  1.627959  0.225522  0.740908  0.504309   \n",
       "\n",
       "          3         4         5         6         7         8         9  \n",
       "0 -0.218442 -0.428316 -0.242047 -0.137425 -0.171636 -0.124152  0.170380  \n",
       "1  0.508535  0.042391  0.193509 -0.261094  0.220839  0.475324  0.427169  \n",
       "2  0.878105  0.660618 -0.013742  0.369268  0.859399  0.695049  0.352337  \n",
       "3  0.336590  0.431860  0.809973  0.577472  1.129735  0.501844  0.038249  \n",
       "4  0.028197  0.447967  0.565526  0.885857  0.142467  0.529941  0.691398  "
      ]
     },
     "execution_count": 2,
     "metadata": {},
     "output_type": "execute_result"
    }
   ],
   "source": [
    "df = pd.read_csv(\"./sample_data/timeseries_anomaly.csv\")\n",
    "df.head()"
   ]
  },
  {
   "cell_type": "markdown",
   "metadata": {},
   "source": [
    "## Step Three: Prepare Data\n",
    "\n",
    "To prepare the DataFrame to be consumed by our mad() function, run the following code to do the following:\n",
    "\n",
    "- Move the timestamp column to the index"
   ]
  },
  {
   "cell_type": "code",
   "execution_count": 3,
   "metadata": {},
   "outputs": [
    {
     "data": {
      "text/html": [
       "<div>\n",
       "<style scoped>\n",
       "    .dataframe tbody tr th:only-of-type {\n",
       "        vertical-align: middle;\n",
       "    }\n",
       "\n",
       "    .dataframe tbody tr th {\n",
       "        vertical-align: top;\n",
       "    }\n",
       "\n",
       "    .dataframe thead th {\n",
       "        text-align: right;\n",
       "    }\n",
       "</style>\n",
       "<table border=\"1\" class=\"dataframe\">\n",
       "  <thead>\n",
       "    <tr style=\"text-align: right;\">\n",
       "      <th></th>\n",
       "      <th>outlier</th>\n",
       "      <th>0</th>\n",
       "      <th>1</th>\n",
       "      <th>2</th>\n",
       "      <th>3</th>\n",
       "      <th>4</th>\n",
       "      <th>5</th>\n",
       "      <th>6</th>\n",
       "      <th>7</th>\n",
       "      <th>8</th>\n",
       "      <th>9</th>\n",
       "    </tr>\n",
       "    <tr>\n",
       "      <th>TimeStamp</th>\n",
       "      <th></th>\n",
       "      <th></th>\n",
       "      <th></th>\n",
       "      <th></th>\n",
       "      <th></th>\n",
       "      <th></th>\n",
       "      <th></th>\n",
       "      <th></th>\n",
       "      <th></th>\n",
       "      <th></th>\n",
       "      <th></th>\n",
       "    </tr>\n",
       "  </thead>\n",
       "  <tbody>\n",
       "    <tr>\n",
       "      <th>2020-01-01 00:00:00.000000000</th>\n",
       "      <td>0.231026</td>\n",
       "      <td>0.440639</td>\n",
       "      <td>-0.167604</td>\n",
       "      <td>-0.149081</td>\n",
       "      <td>-0.218442</td>\n",
       "      <td>-0.428316</td>\n",
       "      <td>-0.242047</td>\n",
       "      <td>-0.137425</td>\n",
       "      <td>-0.171636</td>\n",
       "      <td>-0.124152</td>\n",
       "      <td>0.170380</td>\n",
       "    </tr>\n",
       "    <tr>\n",
       "      <th>2020-01-01 11:39:45.542168576</th>\n",
       "      <td>-0.729871</td>\n",
       "      <td>-0.423899</td>\n",
       "      <td>0.291906</td>\n",
       "      <td>0.449500</td>\n",
       "      <td>0.508535</td>\n",
       "      <td>0.042391</td>\n",
       "      <td>0.193509</td>\n",
       "      <td>-0.261094</td>\n",
       "      <td>0.220839</td>\n",
       "      <td>0.475324</td>\n",
       "      <td>0.427169</td>\n",
       "    </tr>\n",
       "    <tr>\n",
       "      <th>2020-01-01 23:19:31.084337408</th>\n",
       "      <td>1.141963</td>\n",
       "      <td>0.677127</td>\n",
       "      <td>0.570914</td>\n",
       "      <td>0.623382</td>\n",
       "      <td>0.878105</td>\n",
       "      <td>0.660618</td>\n",
       "      <td>-0.013742</td>\n",
       "      <td>0.369268</td>\n",
       "      <td>0.859399</td>\n",
       "      <td>0.695049</td>\n",
       "      <td>0.352337</td>\n",
       "    </tr>\n",
       "    <tr>\n",
       "      <th>2020-01-02 10:59:16.626505984</th>\n",
       "      <td>0.697885</td>\n",
       "      <td>0.708954</td>\n",
       "      <td>0.263466</td>\n",
       "      <td>0.531120</td>\n",
       "      <td>0.336590</td>\n",
       "      <td>0.431860</td>\n",
       "      <td>0.809973</td>\n",
       "      <td>0.577472</td>\n",
       "      <td>1.129735</td>\n",
       "      <td>0.501844</td>\n",
       "      <td>0.038249</td>\n",
       "    </tr>\n",
       "    <tr>\n",
       "      <th>2020-01-02 22:39:02.168674816</th>\n",
       "      <td>1.627959</td>\n",
       "      <td>0.225522</td>\n",
       "      <td>0.740908</td>\n",
       "      <td>0.504309</td>\n",
       "      <td>0.028197</td>\n",
       "      <td>0.447967</td>\n",
       "      <td>0.565526</td>\n",
       "      <td>0.885857</td>\n",
       "      <td>0.142467</td>\n",
       "      <td>0.529941</td>\n",
       "      <td>0.691398</td>\n",
       "    </tr>\n",
       "  </tbody>\n",
       "</table>\n",
       "</div>"
      ],
      "text/plain": [
       "                                outlier         0         1         2  \\\n",
       "TimeStamp                                                               \n",
       "2020-01-01 00:00:00.000000000  0.231026  0.440639 -0.167604 -0.149081   \n",
       "2020-01-01 11:39:45.542168576 -0.729871 -0.423899  0.291906  0.449500   \n",
       "2020-01-01 23:19:31.084337408  1.141963  0.677127  0.570914  0.623382   \n",
       "2020-01-02 10:59:16.626505984  0.697885  0.708954  0.263466  0.531120   \n",
       "2020-01-02 22:39:02.168674816  1.627959  0.225522  0.740908  0.504309   \n",
       "\n",
       "                                      3         4         5         6  \\\n",
       "TimeStamp                                                               \n",
       "2020-01-01 00:00:00.000000000 -0.218442 -0.428316 -0.242047 -0.137425   \n",
       "2020-01-01 11:39:45.542168576  0.508535  0.042391  0.193509 -0.261094   \n",
       "2020-01-01 23:19:31.084337408  0.878105  0.660618 -0.013742  0.369268   \n",
       "2020-01-02 10:59:16.626505984  0.336590  0.431860  0.809973  0.577472   \n",
       "2020-01-02 22:39:02.168674816  0.028197  0.447967  0.565526  0.885857   \n",
       "\n",
       "                                      7         8         9  \n",
       "TimeStamp                                                    \n",
       "2020-01-01 00:00:00.000000000 -0.171636 -0.124152  0.170380  \n",
       "2020-01-01 11:39:45.542168576  0.220839  0.475324  0.427169  \n",
       "2020-01-01 23:19:31.084337408  0.859399  0.695049  0.352337  \n",
       "2020-01-02 10:59:16.626505984  1.129735  0.501844  0.038249  \n",
       "2020-01-02 22:39:02.168674816  0.142467  0.529941  0.691398  "
      ]
     },
     "execution_count": 3,
     "metadata": {},
     "output_type": "execute_result"
    }
   ],
   "source": [
    "df = df.set_index('TimeStamp')\n",
    "df.head()"
   ]
  },
  {
   "cell_type": "markdown",
   "metadata": {},
   "source": [
    "###  To visualize the data \n",
    "Run the following code to visualize the data:"
   ]
  },
  {
   "cell_type": "code",
   "execution_count": 4,
   "metadata": {},
   "outputs": [
    {
     "name": "stderr",
     "output_type": "stream",
     "text": [
      "/Users/anaisdotis-georgiou/.virtualenvs/py3.7/lib/python3.7/site-packages/pandas/plotting/_matplotlib/core.py:1235: UserWarning: FixedFormatter should only be used together with FixedLocator\n",
      "  ax.set_xticklabels(xticklabels)\n"
     ]
    },
    {
     "data": {
      "text/plain": [
       "<AxesSubplot:xlabel='TimeStamp'>"
      ]
     },
     "execution_count": 4,
     "metadata": {},
     "output_type": "execute_result"
    },
    {
     "data": {
      "image/png": "[encoded data removed]",
      "text/plain": [
       "<Figure size 432x288 with 1 Axes>"
      ]
     },
     "metadata": {
      "needs_background": "light"
     },
     "output_type": "display_data"
    }
   ],
   "source": [
    "df.plot()"
   ]
  },
  {
   "cell_type": "markdown",
   "metadata": {},
   "source": [
    "## Step Four: Write a mad() function \n",
    "\n",
    "This mad() function is the Python implementation of the Flux function outlined in this [blog](https://www.influxdata.com/blog/anomaly-detection-with-median-absolute-deviation/). "
   ]
  },
  {
   "cell_type": "code",
   "execution_count": 5,
   "metadata": {},
   "outputs": [],
   "source": [
    "def mad(data,tolerance):\n",
    "    # k is a scale factor, to normalize our values. \n",
    "    k = 1.4826\n",
    "    med_abs = data.mad(axis=1, skipna = False).mul(k, axis =0)\n",
    "    med = data.median(axis=1,skipna = False)\n",
    "    score = data.copy()\n",
    "    score = score.sub(med, axis = 0).abs().div(med_abs, axis =0)\n",
    "    binary = score.gt(tolerance)\n",
    "    return binary\n"
   ]
  },
  {
   "cell_type": "markdown",
   "metadata": {},
   "source": [
    "We pass in our dataframe to our mad() function. This implementation is the same as oulined here. "
   ]
  },
  {
   "cell_type": "markdown",
   "metadata": {},
   "source": [
    "## Step Five: Apply mad()\n",
    "\n",
    "Use the mad() function to detect anomalous points in the data."
   ]
  },
  {
   "cell_type": "code",
   "execution_count": 6,
   "metadata": {},
   "outputs": [
    {
     "data": {
      "text/html": [
       "<div>\n",
       "<style scoped>\n",
       "    .dataframe tbody tr th:only-of-type {\n",
       "        vertical-align: middle;\n",
       "    }\n",
       "\n",
       "    .dataframe tbody tr th {\n",
       "        vertical-align: top;\n",
       "    }\n",
       "\n",
       "    .dataframe thead th {\n",
       "        text-align: right;\n",
       "    }\n",
       "</style>\n",
       "<table border=\"1\" class=\"dataframe\">\n",
       "  <thead>\n",
       "    <tr style=\"text-align: right;\">\n",
       "      <th></th>\n",
       "      <th>outlier</th>\n",
       "      <th>0</th>\n",
       "      <th>1</th>\n",
       "      <th>2</th>\n",
       "      <th>3</th>\n",
       "      <th>4</th>\n",
       "      <th>5</th>\n",
       "      <th>6</th>\n",
       "      <th>7</th>\n",
       "      <th>8</th>\n",
       "      <th>9</th>\n",
       "    </tr>\n",
       "    <tr>\n",
       "      <th>TimeStamp</th>\n",
       "      <th></th>\n",
       "      <th></th>\n",
       "      <th></th>\n",
       "      <th></th>\n",
       "      <th></th>\n",
       "      <th></th>\n",
       "      <th></th>\n",
       "      <th></th>\n",
       "      <th></th>\n",
       "      <th></th>\n",
       "      <th></th>\n",
       "    </tr>\n",
       "  </thead>\n",
       "  <tbody>\n",
       "    <tr>\n",
       "      <th>2020-01-01 00:00:00.000000000</th>\n",
       "      <td>False</td>\n",
       "      <td>False</td>\n",
       "      <td>False</td>\n",
       "      <td>False</td>\n",
       "      <td>False</td>\n",
       "      <td>False</td>\n",
       "      <td>False</td>\n",
       "      <td>False</td>\n",
       "      <td>False</td>\n",
       "      <td>False</td>\n",
       "      <td>False</td>\n",
       "    </tr>\n",
       "    <tr>\n",
       "      <th>2020-01-01 11:39:45.542168576</th>\n",
       "      <td>False</td>\n",
       "      <td>False</td>\n",
       "      <td>False</td>\n",
       "      <td>False</td>\n",
       "      <td>False</td>\n",
       "      <td>False</td>\n",
       "      <td>False</td>\n",
       "      <td>False</td>\n",
       "      <td>False</td>\n",
       "      <td>False</td>\n",
       "      <td>False</td>\n",
       "    </tr>\n",
       "    <tr>\n",
       "      <th>2020-01-01 23:19:31.084337408</th>\n",
       "      <td>False</td>\n",
       "      <td>False</td>\n",
       "      <td>False</td>\n",
       "      <td>False</td>\n",
       "      <td>False</td>\n",
       "      <td>False</td>\n",
       "      <td>False</td>\n",
       "      <td>False</td>\n",
       "      <td>False</td>\n",
       "      <td>False</td>\n",
       "      <td>False</td>\n",
       "    </tr>\n",
       "    <tr>\n",
       "      <th>2020-01-02 10:59:16.626505984</th>\n",
       "      <td>False</td>\n",
       "      <td>False</td>\n",
       "      <td>False</td>\n",
       "      <td>False</td>\n",
       "      <td>False</td>\n",
       "      <td>False</td>\n",
       "      <td>False</td>\n",
       "      <td>False</td>\n",
       "      <td>False</td>\n",
       "      <td>False</td>\n",
       "      <td>False</td>\n",
       "    </tr>\n",
       "    <tr>\n",
       "      <th>2020-01-02 22:39:02.168674816</th>\n",
       "      <td>True</td>\n",
       "      <td>False</td>\n",
       "      <td>False</td>\n",
       "      <td>False</td>\n",
       "      <td>False</td>\n",
       "      <td>False</td>\n",
       "      <td>False</td>\n",
       "      <td>False</td>\n",
       "      <td>False</td>\n",
       "      <td>False</td>\n",
       "      <td>False</td>\n",
       "    </tr>\n",
       "  </tbody>\n",
       "</table>\n",
       "</div>"
      ],
      "text/plain": [
       "                               outlier      0      1      2      3      4  \\\n",
       "TimeStamp                                                                   \n",
       "2020-01-01 00:00:00.000000000    False  False  False  False  False  False   \n",
       "2020-01-01 11:39:45.542168576    False  False  False  False  False  False   \n",
       "2020-01-01 23:19:31.084337408    False  False  False  False  False  False   \n",
       "2020-01-02 10:59:16.626505984    False  False  False  False  False  False   \n",
       "2020-01-02 22:39:02.168674816     True  False  False  False  False  False   \n",
       "\n",
       "                                   5      6      7      8      9  \n",
       "TimeStamp                                                         \n",
       "2020-01-01 00:00:00.000000000  False  False  False  False  False  \n",
       "2020-01-01 11:39:45.542168576  False  False  False  False  False  \n",
       "2020-01-01 23:19:31.084337408  False  False  False  False  False  \n",
       "2020-01-02 10:59:16.626505984  False  False  False  False  False  \n",
       "2020-01-02 22:39:02.168674816  False  False  False  False  False  "
      ]
     },
     "execution_count": 6,
     "metadata": {},
     "output_type": "execute_result"
    }
   ],
   "source": [
    "#Increasing the tolerance makes the mad() algorithm less sensitive and less susceptible to false positives.\n",
    "#Decreaesing the tolerance makes the mad() aglorithm more sensitve and more susceptible to false positives. \n",
    "mad_df = mad(df,2.5)\n",
    "mad_df.head(5)"
   ]
  },
  {
   "cell_type": "markdown",
   "metadata": {},
   "source": [
    "mad() has detected severral anomalies (where the value of the row = True). To identify an anomalous series, find the total count of anomalies across each series. The series with the most anomalous can be defined as anomalous. \n",
    "Run the following code to find the total number of anomalies in the \"outlier\" series: "
   ]
  },
  {
   "cell_type": "code",
   "execution_count": 7,
   "metadata": {},
   "outputs": [
    {
     "data": {
      "text/plain": [
       "False    238\n",
       "True      12\n",
       "Name: outlier, dtype: int64"
      ]
     },
     "execution_count": 7,
     "metadata": {},
     "output_type": "execute_result"
    }
   ],
   "source": [
    "mad_df['outlier'].value_counts()"
   ]
  },
  {
   "cell_type": "code",
   "execution_count": null,
   "metadata": {},
   "outputs": [],
   "source": []
  }
 ],
 "metadata": {
  "kernelspec": {
   "display_name": "Python 3",
   "language": "python",
   "name": "python3"
  },
  "language_info": {
   "codemirror_mode": {
    "name": "ipython",
    "version": 3
   },
   "file_extension": ".py",
   "mimetype": "text/x-python",
   "name": "python",
   "nbconvert_exporter": "python",
   "pygments_lexer": "ipython3",
   "version": "3.7.5"
  }
 },
 "nbformat": 4,
 "nbformat_minor": 2
}
