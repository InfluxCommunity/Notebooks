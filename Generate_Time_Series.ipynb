{
 "cells": [
  {
   "cell_type": "markdown",
   "metadata": {},
   "source": [
    "# Generate Time Series\n",
    "## This is a simple tutorial to get you generating time series data\n"
   ]
  },
  {
   "cell_type": "markdown",
   "metadata": {},
   "source": [
    "This Notebook describes how you might generate some dummy time series data. Sometimes we don't have data available to us, in this case it's useful to be able to generate time series data that will resemble our actual data. Generating data can be useful for trying out various anomaly detection or forecasting algorithms. \n",
    "\n",
    "In this specific example we will generate a collection of similar time series. We will engineer one series to be anomalous by giving our \"outlier\" series greater standardard deviation than the rest of the series. By engineering anomalies, we have an opportunity to test out various anomaly detection algorithms. We use Timesynth to generate this data. \n",
    "\n",
    "[Timesynth](https://github.com/TimeSynth/TimeSynth?files=1) is \"a Multipurpose Library for Synthetic Time Series in Python. TimeSynth is an open source library for generating synthetic time series for model testing. The library can generate regular and irregular time series. The architecture allows the user to match different signals with different architectures allowing a vast array of signals to be generated.\" \n"
   ]
  },
  {
   "cell_type": "markdown",
   "metadata": {},
   "source": [
    "### STEP ONE: import dependencies "
   ]
  },
  {
   "cell_type": "code",
   "execution_count": 8,
   "metadata": {},
   "outputs": [],
   "source": [
    "import pandas as pd\n",
    "import datetime\n",
    "import timesynth as ts"
   ]
  },
  {
   "cell_type": "markdown",
   "metadata": {},
   "source": [
    "### STEP Two: Generate multiple time series data with an anomaly \n",
    "This function takes n as an input of the number of time series you want to geneerate. It also automatically generates one series that is an outlier. "
   ]
  },
  {
   "cell_type": "code",
   "execution_count": 24,
   "metadata": {},
   "outputs": [],
   "source": [
    "def gen_time_series(n,start,stop,periods,outlier=True):\n",
    "    time_series = pd.DataFrame([])\n",
    "    time_sampler = ts.TimeSampler(stop_time=20)\n",
    "    # Sampling irregular time samples\n",
    "    irregular_time_samples = time_sampler.sample_irregular_time(num_points=500, keep_percentage=50)\n",
    "    # Initializing Sinusoidal signal\n",
    "    sinusoid = ts.signals.Sinusoidal(frequency=0.25)\n",
    "    # Initializing Gaussian noise\n",
    "    white_noise = ts.noise.GaussianNoise(std=0.5)\n",
    "    timeseries = ts.TimeSeries(sinusoid, noise_generator=white_noise)\n",
    "    if outlier == True:\n",
    "        outlier_samples, outlier_signals, outlier_errors = timeseries.sample(irregular_time_samples)\n",
    "        time_series[\"outlier\"] = outlier_samples\n",
    "    for i in range(n):\n",
    "        # Initializing Gaussian noise\n",
    "        white_noise = ts.noise.GaussianNoise(std=0.3)\n",
    "        # Initializing TimeSeries class with the signal\n",
    "        timeseries = ts.TimeSeries(sinusoid, noise_generator=white_noise)\n",
    "        samples, signals, errors = timeseries.sample(irregular_time_samples) \n",
    "        time_series[str(i)] = samples\n",
    "    \n",
    "    t = pd.date_range(start,stop,periods)\n",
    "    s = pd.Series(t, name = 'TimeStamp')\n",
    "    time_series.insert(0, 'TimeStamp', s)\n",
    "    time_series.set_index('TimeStamp')\n",
    "    return time_series"
   ]
  },
  {
   "cell_type": "code",
   "execution_count": 23,
   "metadata": {},
   "outputs": [
    {
     "data": {
      "text/html": [
       "<div>\n",
       "<style scoped>\n",
       "    .dataframe tbody tr th:only-of-type {\n",
       "        vertical-align: middle;\n",
       "    }\n",
       "\n",
       "    .dataframe tbody tr th {\n",
       "        vertical-align: top;\n",
       "    }\n",
       "\n",
       "    .dataframe thead th {\n",
       "        text-align: right;\n",
       "    }\n",
       "</style>\n",
       "<table border=\"1\" class=\"dataframe\">\n",
       "  <thead>\n",
       "    <tr style=\"text-align: right;\">\n",
       "      <th></th>\n",
       "      <th>TimeStamp</th>\n",
       "      <th>outlier</th>\n",
       "      <th>0</th>\n",
       "      <th>1</th>\n",
       "      <th>2</th>\n",
       "      <th>3</th>\n",
       "      <th>4</th>\n",
       "      <th>5</th>\n",
       "      <th>6</th>\n",
       "      <th>7</th>\n",
       "      <th>8</th>\n",
       "      <th>9</th>\n",
       "    </tr>\n",
       "  </thead>\n",
       "  <tbody>\n",
       "    <tr>\n",
       "      <th>0</th>\n",
       "      <td>2020-01-01 00:00:00.000000000</td>\n",
       "      <td>0.273569</td>\n",
       "      <td>0.089068</td>\n",
       "      <td>0.043086</td>\n",
       "      <td>-0.086636</td>\n",
       "      <td>0.027345</td>\n",
       "      <td>-0.167815</td>\n",
       "      <td>-0.294905</td>\n",
       "      <td>0.253433</td>\n",
       "      <td>-0.433363</td>\n",
       "      <td>-0.240902</td>\n",
       "      <td>0.360191</td>\n",
       "    </tr>\n",
       "    <tr>\n",
       "      <th>1</th>\n",
       "      <td>2020-01-01 11:39:45.542168674</td>\n",
       "      <td>0.400582</td>\n",
       "      <td>0.610508</td>\n",
       "      <td>0.553688</td>\n",
       "      <td>0.229399</td>\n",
       "      <td>0.338252</td>\n",
       "      <td>0.075233</td>\n",
       "      <td>0.618103</td>\n",
       "      <td>0.304662</td>\n",
       "      <td>0.500785</td>\n",
       "      <td>0.536381</td>\n",
       "      <td>0.099216</td>\n",
       "    </tr>\n",
       "    <tr>\n",
       "      <th>2</th>\n",
       "      <td>2020-01-01 23:19:31.084337349</td>\n",
       "      <td>0.316921</td>\n",
       "      <td>0.132003</td>\n",
       "      <td>0.489828</td>\n",
       "      <td>0.560843</td>\n",
       "      <td>1.041315</td>\n",
       "      <td>1.105678</td>\n",
       "      <td>0.738242</td>\n",
       "      <td>0.616640</td>\n",
       "      <td>0.054625</td>\n",
       "      <td>-0.038528</td>\n",
       "      <td>0.028781</td>\n",
       "    </tr>\n",
       "    <tr>\n",
       "      <th>3</th>\n",
       "      <td>2020-01-02 10:59:16.626506024</td>\n",
       "      <td>-0.210285</td>\n",
       "      <td>0.825345</td>\n",
       "      <td>0.992569</td>\n",
       "      <td>0.980352</td>\n",
       "      <td>0.855107</td>\n",
       "      <td>1.251779</td>\n",
       "      <td>1.004523</td>\n",
       "      <td>0.555303</td>\n",
       "      <td>0.711491</td>\n",
       "      <td>0.837791</td>\n",
       "      <td>0.508232</td>\n",
       "    </tr>\n",
       "    <tr>\n",
       "      <th>4</th>\n",
       "      <td>2020-01-02 22:39:02.168674698</td>\n",
       "      <td>0.685683</td>\n",
       "      <td>0.329103</td>\n",
       "      <td>0.675492</td>\n",
       "      <td>1.221045</td>\n",
       "      <td>0.881072</td>\n",
       "      <td>1.285694</td>\n",
       "      <td>0.724484</td>\n",
       "      <td>0.660852</td>\n",
       "      <td>0.526731</td>\n",
       "      <td>0.931796</td>\n",
       "      <td>0.576716</td>\n",
       "    </tr>\n",
       "  </tbody>\n",
       "</table>\n",
       "</div>"
      ],
      "text/plain": [
       "                      TimeStamp   outlier         0         1         2  \\\n",
       "0 2020-01-01 00:00:00.000000000  0.273569  0.089068  0.043086 -0.086636   \n",
       "1 2020-01-01 11:39:45.542168674  0.400582  0.610508  0.553688  0.229399   \n",
       "2 2020-01-01 23:19:31.084337349  0.316921  0.132003  0.489828  0.560843   \n",
       "3 2020-01-02 10:59:16.626506024 -0.210285  0.825345  0.992569  0.980352   \n",
       "4 2020-01-02 22:39:02.168674698  0.685683  0.329103  0.675492  1.221045   \n",
       "\n",
       "          3         4         5         6         7         8         9  \n",
       "0  0.027345 -0.167815 -0.294905  0.253433 -0.433363 -0.240902  0.360191  \n",
       "1  0.338252  0.075233  0.618103  0.304662  0.500785  0.536381  0.099216  \n",
       "2  1.041315  1.105678  0.738242  0.616640  0.054625 -0.038528  0.028781  \n",
       "3  0.855107  1.251779  1.004523  0.555303  0.711491  0.837791  0.508232  \n",
       "4  0.881072  1.285694  0.724484  0.660852  0.526731  0.931796  0.576716  "
      ]
     },
     "execution_count": 23,
     "metadata": {},
     "output_type": "execute_result"
    }
   ],
   "source": [
    "generated_ts_df = gen_time_series(10,start='1/1/2020',stop='05/01/2020',periods=250)\n",
    "generated_ts_df.head()"
   ]
  },
  {
   "cell_type": "markdown",
   "metadata": {},
   "source": [
    "Now we want to add a timestamp index to our dataframe. First, we look at the lenght of the our dataframe to create an array of timestamps to match. "
   ]
  },
  {
   "cell_type": "code",
   "execution_count": 28,
   "metadata": {},
   "outputs": [
    {
     "data": {
      "text/plain": [
       "250"
      ]
     },
     "execution_count": 28,
     "metadata": {},
     "output_type": "execute_result"
    }
   ],
   "source": [
    "len(generated_ts_df)"
   ]
  },
  {
   "cell_type": "markdown",
   "metadata": {},
   "source": [
    "Now we create that array with the appropriate amount of periods, and we insert the array, ```s``` as a column"
   ]
  },
  {
   "cell_type": "code",
   "execution_count": 29,
   "metadata": {},
   "outputs": [
    {
     "data": {
      "text/html": [
       "<div>\n",
       "<style scoped>\n",
       "    .dataframe tbody tr th:only-of-type {\n",
       "        vertical-align: middle;\n",
       "    }\n",
       "\n",
       "    .dataframe tbody tr th {\n",
       "        vertical-align: top;\n",
       "    }\n",
       "\n",
       "    .dataframe thead th {\n",
       "        text-align: right;\n",
       "    }\n",
       "</style>\n",
       "<table border=\"1\" class=\"dataframe\">\n",
       "  <thead>\n",
       "    <tr style=\"text-align: right;\">\n",
       "      <th></th>\n",
       "      <th>TimeStamp</th>\n",
       "      <th>outlier</th>\n",
       "      <th>0</th>\n",
       "      <th>1</th>\n",
       "      <th>2</th>\n",
       "      <th>3</th>\n",
       "      <th>4</th>\n",
       "      <th>5</th>\n",
       "      <th>6</th>\n",
       "      <th>7</th>\n",
       "      <th>8</th>\n",
       "      <th>9</th>\n",
       "    </tr>\n",
       "  </thead>\n",
       "  <tbody>\n",
       "    <tr>\n",
       "      <th>0</th>\n",
       "      <td>2020-01-01 00:00:00.000000000</td>\n",
       "      <td>0.231026</td>\n",
       "      <td>0.440639</td>\n",
       "      <td>-0.167604</td>\n",
       "      <td>-0.149081</td>\n",
       "      <td>-0.218442</td>\n",
       "      <td>-0.428316</td>\n",
       "      <td>-0.242047</td>\n",
       "      <td>-0.137425</td>\n",
       "      <td>-0.171636</td>\n",
       "      <td>-0.124152</td>\n",
       "      <td>0.170380</td>\n",
       "    </tr>\n",
       "    <tr>\n",
       "      <th>1</th>\n",
       "      <td>2020-01-01 11:39:45.542168576</td>\n",
       "      <td>-0.729871</td>\n",
       "      <td>-0.423899</td>\n",
       "      <td>0.291906</td>\n",
       "      <td>0.449500</td>\n",
       "      <td>0.508535</td>\n",
       "      <td>0.042391</td>\n",
       "      <td>0.193509</td>\n",
       "      <td>-0.261094</td>\n",
       "      <td>0.220839</td>\n",
       "      <td>0.475324</td>\n",
       "      <td>0.427169</td>\n",
       "    </tr>\n",
       "    <tr>\n",
       "      <th>2</th>\n",
       "      <td>2020-01-01 23:19:31.084337408</td>\n",
       "      <td>1.141963</td>\n",
       "      <td>0.677127</td>\n",
       "      <td>0.570914</td>\n",
       "      <td>0.623382</td>\n",
       "      <td>0.878105</td>\n",
       "      <td>0.660618</td>\n",
       "      <td>-0.013742</td>\n",
       "      <td>0.369268</td>\n",
       "      <td>0.859399</td>\n",
       "      <td>0.695049</td>\n",
       "      <td>0.352337</td>\n",
       "    </tr>\n",
       "    <tr>\n",
       "      <th>3</th>\n",
       "      <td>2020-01-02 10:59:16.626505984</td>\n",
       "      <td>0.697885</td>\n",
       "      <td>0.708954</td>\n",
       "      <td>0.263466</td>\n",
       "      <td>0.531120</td>\n",
       "      <td>0.336590</td>\n",
       "      <td>0.431860</td>\n",
       "      <td>0.809973</td>\n",
       "      <td>0.577472</td>\n",
       "      <td>1.129735</td>\n",
       "      <td>0.501844</td>\n",
       "      <td>0.038249</td>\n",
       "    </tr>\n",
       "    <tr>\n",
       "      <th>4</th>\n",
       "      <td>2020-01-02 22:39:02.168674816</td>\n",
       "      <td>1.627959</td>\n",
       "      <td>0.225522</td>\n",
       "      <td>0.740908</td>\n",
       "      <td>0.504309</td>\n",
       "      <td>0.028197</td>\n",
       "      <td>0.447967</td>\n",
       "      <td>0.565526</td>\n",
       "      <td>0.885857</td>\n",
       "      <td>0.142467</td>\n",
       "      <td>0.529941</td>\n",
       "      <td>0.691398</td>\n",
       "    </tr>\n",
       "  </tbody>\n",
       "</table>\n",
       "</div>"
      ],
      "text/plain": [
       "                      TimeStamp   outlier         0         1         2  \\\n",
       "0 2020-01-01 00:00:00.000000000  0.231026  0.440639 -0.167604 -0.149081   \n",
       "1 2020-01-01 11:39:45.542168576 -0.729871 -0.423899  0.291906  0.449500   \n",
       "2 2020-01-01 23:19:31.084337408  1.141963  0.677127  0.570914  0.623382   \n",
       "3 2020-01-02 10:59:16.626505984  0.697885  0.708954  0.263466  0.531120   \n",
       "4 2020-01-02 22:39:02.168674816  1.627959  0.225522  0.740908  0.504309   \n",
       "\n",
       "          3         4         5         6         7         8         9  \n",
       "0 -0.218442 -0.428316 -0.242047 -0.137425 -0.171636 -0.124152  0.170380  \n",
       "1  0.508535  0.042391  0.193509 -0.261094  0.220839  0.475324  0.427169  \n",
       "2  0.878105  0.660618 -0.013742  0.369268  0.859399  0.695049  0.352337  \n",
       "3  0.336590  0.431860  0.809973  0.577472  1.129735  0.501844  0.038249  \n",
       "4  0.028197  0.447967  0.565526  0.885857  0.142467  0.529941  0.691398  "
      ]
     },
     "execution_count": 29,
     "metadata": {},
     "output_type": "execute_result"
    }
   ],
   "source": [
    "t = pd.date_range(start='1/1/2020', end='05/01/2020', periods=250)\n",
    "s = pd.Series(t, name = 'TimeStamp')\n",
    "generated_ts_df.insert(0, 'TimeStamp', s)\n",
    "generated_ts_df.head()"
   ]
  },
  {
   "cell_type": "markdown",
   "metadata": {},
   "source": [
    "Now we can set our timestamp column as an index"
   ]
  },
  {
   "cell_type": "code",
   "execution_count": 30,
   "metadata": {},
   "outputs": [
    {
     "data": {
      "text/html": [
       "<div>\n",
       "<style scoped>\n",
       "    .dataframe tbody tr th:only-of-type {\n",
       "        vertical-align: middle;\n",
       "    }\n",
       "\n",
       "    .dataframe tbody tr th {\n",
       "        vertical-align: top;\n",
       "    }\n",
       "\n",
       "    .dataframe thead th {\n",
       "        text-align: right;\n",
       "    }\n",
       "</style>\n",
       "<table border=\"1\" class=\"dataframe\">\n",
       "  <thead>\n",
       "    <tr style=\"text-align: right;\">\n",
       "      <th></th>\n",
       "      <th>outlier</th>\n",
       "      <th>0</th>\n",
       "      <th>1</th>\n",
       "      <th>2</th>\n",
       "      <th>3</th>\n",
       "      <th>4</th>\n",
       "      <th>5</th>\n",
       "      <th>6</th>\n",
       "      <th>7</th>\n",
       "      <th>8</th>\n",
       "      <th>9</th>\n",
       "    </tr>\n",
       "    <tr>\n",
       "      <th>TimeStamp</th>\n",
       "      <th></th>\n",
       "      <th></th>\n",
       "      <th></th>\n",
       "      <th></th>\n",
       "      <th></th>\n",
       "      <th></th>\n",
       "      <th></th>\n",
       "      <th></th>\n",
       "      <th></th>\n",
       "      <th></th>\n",
       "      <th></th>\n",
       "    </tr>\n",
       "  </thead>\n",
       "  <tbody>\n",
       "    <tr>\n",
       "      <th>2020-01-01 00:00:00.000000000</th>\n",
       "      <td>0.231026</td>\n",
       "      <td>0.440639</td>\n",
       "      <td>-0.167604</td>\n",
       "      <td>-0.149081</td>\n",
       "      <td>-0.218442</td>\n",
       "      <td>-0.428316</td>\n",
       "      <td>-0.242047</td>\n",
       "      <td>-0.137425</td>\n",
       "      <td>-0.171636</td>\n",
       "      <td>-0.124152</td>\n",
       "      <td>0.170380</td>\n",
       "    </tr>\n",
       "    <tr>\n",
       "      <th>2020-01-01 11:39:45.542168576</th>\n",
       "      <td>-0.729871</td>\n",
       "      <td>-0.423899</td>\n",
       "      <td>0.291906</td>\n",
       "      <td>0.449500</td>\n",
       "      <td>0.508535</td>\n",
       "      <td>0.042391</td>\n",
       "      <td>0.193509</td>\n",
       "      <td>-0.261094</td>\n",
       "      <td>0.220839</td>\n",
       "      <td>0.475324</td>\n",
       "      <td>0.427169</td>\n",
       "    </tr>\n",
       "    <tr>\n",
       "      <th>2020-01-01 23:19:31.084337408</th>\n",
       "      <td>1.141963</td>\n",
       "      <td>0.677127</td>\n",
       "      <td>0.570914</td>\n",
       "      <td>0.623382</td>\n",
       "      <td>0.878105</td>\n",
       "      <td>0.660618</td>\n",
       "      <td>-0.013742</td>\n",
       "      <td>0.369268</td>\n",
       "      <td>0.859399</td>\n",
       "      <td>0.695049</td>\n",
       "      <td>0.352337</td>\n",
       "    </tr>\n",
       "    <tr>\n",
       "      <th>2020-01-02 10:59:16.626505984</th>\n",
       "      <td>0.697885</td>\n",
       "      <td>0.708954</td>\n",
       "      <td>0.263466</td>\n",
       "      <td>0.531120</td>\n",
       "      <td>0.336590</td>\n",
       "      <td>0.431860</td>\n",
       "      <td>0.809973</td>\n",
       "      <td>0.577472</td>\n",
       "      <td>1.129735</td>\n",
       "      <td>0.501844</td>\n",
       "      <td>0.038249</td>\n",
       "    </tr>\n",
       "    <tr>\n",
       "      <th>2020-01-02 22:39:02.168674816</th>\n",
       "      <td>1.627959</td>\n",
       "      <td>0.225522</td>\n",
       "      <td>0.740908</td>\n",
       "      <td>0.504309</td>\n",
       "      <td>0.028197</td>\n",
       "      <td>0.447967</td>\n",
       "      <td>0.565526</td>\n",
       "      <td>0.885857</td>\n",
       "      <td>0.142467</td>\n",
       "      <td>0.529941</td>\n",
       "      <td>0.691398</td>\n",
       "    </tr>\n",
       "  </tbody>\n",
       "</table>\n",
       "</div>"
      ],
      "text/plain": [
       "                                outlier         0         1         2  \\\n",
       "TimeStamp                                                               \n",
       "2020-01-01 00:00:00.000000000  0.231026  0.440639 -0.167604 -0.149081   \n",
       "2020-01-01 11:39:45.542168576 -0.729871 -0.423899  0.291906  0.449500   \n",
       "2020-01-01 23:19:31.084337408  1.141963  0.677127  0.570914  0.623382   \n",
       "2020-01-02 10:59:16.626505984  0.697885  0.708954  0.263466  0.531120   \n",
       "2020-01-02 22:39:02.168674816  1.627959  0.225522  0.740908  0.504309   \n",
       "\n",
       "                                      3         4         5         6  \\\n",
       "TimeStamp                                                               \n",
       "2020-01-01 00:00:00.000000000 -0.218442 -0.428316 -0.242047 -0.137425   \n",
       "2020-01-01 11:39:45.542168576  0.508535  0.042391  0.193509 -0.261094   \n",
       "2020-01-01 23:19:31.084337408  0.878105  0.660618 -0.013742  0.369268   \n",
       "2020-01-02 10:59:16.626505984  0.336590  0.431860  0.809973  0.577472   \n",
       "2020-01-02 22:39:02.168674816  0.028197  0.447967  0.565526  0.885857   \n",
       "\n",
       "                                      7         8         9  \n",
       "TimeStamp                                                    \n",
       "2020-01-01 00:00:00.000000000 -0.171636 -0.124152  0.170380  \n",
       "2020-01-01 11:39:45.542168576  0.220839  0.475324  0.427169  \n",
       "2020-01-01 23:19:31.084337408  0.859399  0.695049  0.352337  \n",
       "2020-01-02 10:59:16.626505984  1.129735  0.501844  0.038249  \n",
       "2020-01-02 22:39:02.168674816  0.142467  0.529941  0.691398  "
      ]
     },
     "execution_count": 30,
     "metadata": {},
     "output_type": "execute_result"
    }
   ],
   "source": [
    "generated_ts_df = generated_ts_df.set_index('TimeStamp')\n",
    "generated_ts_df.head()"
   ]
  },
  {
   "cell_type": "markdown",
   "metadata": {},
   "source": [
    "Plotting our time series allows us to determine whether or not our generated time series will be a good fit for our anomaly detection exploration. Here we see that the series are behaving similarly, it's not immediatlly apparent through visual inspection which time series has the engineered anomaly. This Time series is used in the python implementation of mad(). "
   ]
  },
  {
   "cell_type": "code",
   "execution_count": 31,
   "metadata": {},
   "outputs": [
    {
     "data": {
      "text/plain": [
       "<matplotlib.axes._subplots.AxesSubplot at 0x12e872d10>"
      ]
     },
     "execution_count": 31,
     "metadata": {},
     "output_type": "execute_result"
    },
    {
     "data": {
      "image/png": "[encoded data removed]",
      "text/plain": [
       "<Figure size 432x288 with 1 Axes>"
      ]
     },
     "metadata": {},
     "output_type": "display_data"
    }
   ],
   "source": [
    "generated_ts_df.plot()"
   ]
  },
  {
   "cell_type": "code",
   "execution_count": 34,
   "metadata": {},
   "outputs": [],
   "source": [
    "generated_ts_df.to_csv(\"timeseries_anomaly.csv\",index=True)"
   ]
  },
  {
   "cell_type": "code",
   "execution_count": null,
   "metadata": {},
   "outputs": [],
   "source": []
  }
 ],
 "metadata": {
  "kernelspec": {
   "display_name": "Python 3",
   "language": "python",
   "name": "python3"
  },
  "language_info": {
   "codemirror_mode": {
    "name": "ipython",
    "version": 3
   },
   "file_extension": ".py",
   "mimetype": "text/x-python",
   "name": "python",
   "nbconvert_exporter": "python",
   "pygments_lexer": "ipython3",
   "version": "3.8.5"
  }
 },
 "nbformat": 4,
 "nbformat_minor": 2
}
